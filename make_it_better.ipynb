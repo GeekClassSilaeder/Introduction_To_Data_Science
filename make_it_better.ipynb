{
 "cells": [
  {
   "cell_type": "markdown",
   "metadata": {},
   "source": [
    "#### Скачивание данных"
   ]
  },
  {
   "cell_type": "code",
   "execution_count": 1,
   "metadata": {},
   "outputs": [
    {
     "name": "stdout",
     "output_type": "stream",
     "text": [
      "Defaulting to user installation because normal site-packages is not writeable\n",
      "Requirement already satisfied: vk in /home/pavtiger/.local/lib/python3.6/site-packages (2.0.2)\n",
      "Requirement already satisfied: requests<3.0,>=2.8 in /usr/lib/python3/dist-packages (from vk) (2.18.4)\n",
      "Defaulting to user installation because normal site-packages is not writeable\n",
      "Requirement already satisfied: tqdm in /home/pavtiger/.local/lib/python3.6/site-packages (4.43.0)\n"
     ]
    }
   ],
   "source": [
    "!pip install vk\n",
    "!pip install tqdm"
   ]
  },
  {
   "cell_type": "markdown",
   "metadata": {},
   "source": [
    "Аккуратно скачаем все посты из группы.\n",
    "\n",
    "* Используем tqdm для удобного вывода прогресса.\n",
    "* На всякий случай запомним пост полностью, чтобы не скачивать все заного, если что-то потом \"всплывет\".\n",
    "* Просмотры появились в постах не так давно, в старых их просто не будет. Предусмотрим это в коде.\n",
    "* Вложений тоже может не быть, поэтому будем с ними аккуратнее."
   ]
  },
  {
   "cell_type": "code",
   "execution_count": 1,
   "metadata": {},
   "outputs": [
    {
     "name": "stderr",
     "output_type": "stream",
     "text": [
      " 27%|██▋       | 67/244 [02:07<05:55,  2.01s/it]"
     ]
    },
    {
     "name": "stdout",
     "output_type": "stream",
     "text": [
      "Error: No views in post\n",
      "(6798, 9)\n"
     ]
    },
    {
     "data": {
      "text/html": [
       "<div>\n",
       "<style scoped>\n",
       "    .dataframe tbody tr th:only-of-type {\n",
       "        vertical-align: middle;\n",
       "    }\n",
       "\n",
       "    .dataframe tbody tr th {\n",
       "        vertical-align: top;\n",
       "    }\n",
       "\n",
       "    .dataframe thead th {\n",
       "        text-align: right;\n",
       "    }\n",
       "</style>\n",
       "<table border=\"1\" class=\"dataframe\">\n",
       "  <thead>\n",
       "    <tr style=\"text-align: right;\">\n",
       "      <th></th>\n",
       "      <th>text</th>\n",
       "      <th>views</th>\n",
       "      <th>likes</th>\n",
       "      <th>comments</th>\n",
       "      <th>is_ad</th>\n",
       "      <th>attachments</th>\n",
       "      <th>is_repost</th>\n",
       "      <th>time</th>\n",
       "      <th>raw</th>\n",
       "    </tr>\n",
       "  </thead>\n",
       "  <tbody>\n",
       "    <tr>\n",
       "      <th>1653786</th>\n",
       "      <td>Шарите в Java? Есть отличный шанс это продемон...</td>\n",
       "      <td>97431</td>\n",
       "      <td>460</td>\n",
       "      <td>166</td>\n",
       "      <td>0</td>\n",
       "      <td>[{'type': 'photo', 'photo': {'id': 457676504, ...</td>\n",
       "      <td>False</td>\n",
       "      <td>1581689820</td>\n",
       "      <td>{'id': 1653786, 'from_id': -30666517, 'owner_i...</td>\n",
       "    </tr>\n",
       "    <tr>\n",
       "      <th>1656168</th>\n",
       "      <td>M, A и T — уникальные цифры, причём MAM + MAT ...</td>\n",
       "      <td>20239</td>\n",
       "      <td>65</td>\n",
       "      <td>57</td>\n",
       "      <td>0</td>\n",
       "      <td>[{'type': 'photo', 'photo': {'id': 457666888, ...</td>\n",
       "      <td>False</td>\n",
       "      <td>1583059620</td>\n",
       "      <td>{'id': 1656168, 'from_id': -30666517, 'owner_i...</td>\n",
       "    </tr>\n",
       "    <tr>\n",
       "      <th>1656033</th>\n",
       "      <td>Просто ламповое фото.\\n\\nЗа ламповость отвечае...</td>\n",
       "      <td>41305</td>\n",
       "      <td>290</td>\n",
       "      <td>135</td>\n",
       "      <td>0</td>\n",
       "      <td>[{'type': 'photo', 'photo': {'id': 457675926, ...</td>\n",
       "      <td>False</td>\n",
       "      <td>1583043360</td>\n",
       "      <td>{'id': 1656033, 'from_id': -30666517, 'owner_i...</td>\n",
       "    </tr>\n",
       "    <tr>\n",
       "      <th>1655979</th>\n",
       "      <td>Хотите научиться программировать? Или изучить ...</td>\n",
       "      <td>40166</td>\n",
       "      <td>297</td>\n",
       "      <td>27</td>\n",
       "      <td>0</td>\n",
       "      <td>[{'type': 'photo', 'photo': {'id': 457686360, ...</td>\n",
       "      <td>False</td>\n",
       "      <td>1582993140</td>\n",
       "      <td>{'id': 1655979, 'from_id': -30666517, 'owner_i...</td>\n",
       "    </tr>\n",
       "    <tr>\n",
       "      <th>1655966</th>\n",
       "      <td>Большая шпаргалка по нейросетям:\\n\\nЧасть 1: h...</td>\n",
       "      <td>48282</td>\n",
       "      <td>405</td>\n",
       "      <td>3</td>\n",
       "      <td>0</td>\n",
       "      <td>[{'type': 'photo', 'photo': {'id': 457682157, ...</td>\n",
       "      <td>False</td>\n",
       "      <td>1582977960</td>\n",
       "      <td>{'id': 1655966, 'from_id': -30666517, 'owner_i...</td>\n",
       "    </tr>\n",
       "  </tbody>\n",
       "</table>\n",
       "</div>"
      ],
      "text/plain": [
       "                                                      text  views likes  \\\n",
       "1653786  Шарите в Java? Есть отличный шанс это продемон...  97431   460   \n",
       "1656168  M, A и T — уникальные цифры, причём MAM + MAT ...  20239    65   \n",
       "1656033  Просто ламповое фото.\\n\\nЗа ламповость отвечае...  41305   290   \n",
       "1655979  Хотите научиться программировать? Или изучить ...  40166   297   \n",
       "1655966  Большая шпаргалка по нейросетям:\\n\\nЧасть 1: h...  48282   405   \n",
       "\n",
       "        comments is_ad                                        attachments  \\\n",
       "1653786      166     0  [{'type': 'photo', 'photo': {'id': 457676504, ...   \n",
       "1656168       57     0  [{'type': 'photo', 'photo': {'id': 457666888, ...   \n",
       "1656033      135     0  [{'type': 'photo', 'photo': {'id': 457675926, ...   \n",
       "1655979       27     0  [{'type': 'photo', 'photo': {'id': 457686360, ...   \n",
       "1655966        3     0  [{'type': 'photo', 'photo': {'id': 457682157, ...   \n",
       "\n",
       "        is_repost        time  \\\n",
       "1653786     False  1581689820   \n",
       "1656168     False  1583059620   \n",
       "1656033     False  1583043360   \n",
       "1655979     False  1582993140   \n",
       "1655966     False  1582977960   \n",
       "\n",
       "                                                       raw  \n",
       "1653786  {'id': 1653786, 'from_id': -30666517, 'owner_i...  \n",
       "1656168  {'id': 1656168, 'from_id': -30666517, 'owner_i...  \n",
       "1656033  {'id': 1656033, 'from_id': -30666517, 'owner_i...  \n",
       "1655979  {'id': 1655979, 'from_id': -30666517, 'owner_i...  \n",
       "1655966  {'id': 1655966, 'from_id': -30666517, 'owner_i...  "
      ]
     },
     "execution_count": 1,
     "metadata": {},
     "output_type": "execute_result"
    }
   ],
   "source": [
    "import vk\n",
    "import datetime\n",
    "import pandas as pd\n",
    "from tqdm import tqdm\n",
    "\n",
    "session = vk.Session(access_token=\"38479e4a81d854219057927293934ed4d12b1c91afb966101385de82fc3d24310c0d5a039d4a907764504\")\n",
    "api = vk.API(session)\n",
    "\n",
    "columns = ['text', 'views', 'likes', 'comments', 'is_ad', 'attachments', 'is_repost', 'time', 'raw']\n",
    "df = pd.DataFrame(columns=columns)\n",
    "\n",
    "result = api.wall.get(domain='tproger', count=1, v=5.103)\n",
    "count = result['count']\n",
    "\n",
    "for offset in tqdm(range(0, count, 100), position=0, leave=True):\n",
    "    try:\n",
    "        result = api.wall.get(domain='tproger', count=100, offset=offset, v=5.103)\n",
    "        for post in result['items']:\n",
    "            if \"views\" not in post:\n",
    "                raise Exception(\"No views in post\")\n",
    "            \"\"\"\n",
    "            print('--- ' * 10)\n",
    "            print(\"Пост №:\", post['id'])\n",
    "            print(\"Размер текста:\", len(post['text']))\n",
    "            print(\"Просмотры:\", post['views']['count'])\n",
    "            print(\"Лайки:\", post['likes']['count'])\n",
    "            print(\"Коменты:\", post['comments']['count'])\n",
    "            print(\"Реклама?\", post['marked_as_ads'])\n",
    "            print(\"Число вложений:\", len(post['attachments']))\n",
    "            print(\"Репост?\", post.get('copy_history', None) != None)\n",
    "            print(\"Время публикации:\", post['date'])\n",
    "            \"\"\"\n",
    "            attachments = post.get('attachments', [])\n",
    "\n",
    "            df.loc[post['id']] = [\n",
    "                post['text'],  post['views']['count'], post['likes']['count'], post['comments']['count'],\n",
    "                post['marked_as_ads'], attachments, post.get('copy_history', None) != None, \n",
    "                post['date'], post\n",
    "            ]\n",
    "    except Exception as e:\n",
    "        print(\"Error:\", e)\n",
    "        break\n",
    "        \n",
    "\n",
    "\n",
    "print(df.shape)\n",
    "df.head()\n"
   ]
  },
  {
   "cell_type": "markdown",
   "metadata": {},
   "source": [
    "#### Смотрим на данные и правим типы"
   ]
  },
  {
   "cell_type": "markdown",
   "metadata": {},
   "source": [
    "Итак, мы скачали почти 7000 постов. Посмотрим на типы данных колонок."
   ]
  },
  {
   "cell_type": "code",
   "execution_count": 2,
   "metadata": {},
   "outputs": [
    {
     "name": "stdout",
     "output_type": "stream",
     "text": [
      "text: object, 6798\n",
      "views: object, 6798\n",
      "likes: object, 6798\n",
      "comments: object, 6798\n",
      "is_ad: object, 6798\n",
      "attachments: object, 6798\n",
      "is_repost: object, 6798\n",
      "time: object, 6798\n",
      "raw: object, 6798\n"
     ]
    }
   ],
   "source": [
    "for column in columns:\n",
    "    print(f'{column}: {df[column].dtype}, {len(df[column])}')"
   ]
  },
  {
   "cell_type": "markdown",
   "metadata": {},
   "source": [
    "1) Во всех колонках одинаковое число записей, пропущенных значений нет. Иначе мы смогли бы использовать `dropna` или `fillna`, чтобы их заполнить.\n",
    "\n",
    "2) У все колонок тип object (категориальные данные), хотя по факту в некоторых числа. Попробуем преобразовать тип."
   ]
  },
  {
   "cell_type": "code",
   "execution_count": 3,
   "metadata": {},
   "outputs": [],
   "source": [
    "num_columns = ['views', 'likes', 'comments', 'is_ad', 'is_repost', 'time']\n",
    "\n",
    "for column in num_columns:\n",
    "    df[column] = df[column].astype(int)"
   ]
  },
  {
   "cell_type": "code",
   "execution_count": 4,
   "metadata": {},
   "outputs": [
    {
     "name": "stdout",
     "output_type": "stream",
     "text": [
      "text: object, 6798\n",
      "views: int64, 6798\n",
      "likes: int64, 6798\n",
      "comments: int64, 6798\n",
      "is_ad: int64, 6798\n",
      "attachments: object, 6798\n",
      "is_repost: int64, 6798\n",
      "time: int64, 6798\n",
      "raw: object, 6798\n"
     ]
    }
   ],
   "source": [
    "for column in columns:\n",
    "    print(f'{column}: {df[column].dtype}, {len(df[column])}')"
   ]
  },
  {
   "cell_type": "markdown",
   "metadata": {},
   "source": [
    "Отлично, теперь в колонках числа, можем на них посмотреть."
   ]
  },
  {
   "cell_type": "code",
   "execution_count": 5,
   "metadata": {},
   "outputs": [
    {
     "data": {
      "text/html": [
       "<div>\n",
       "<style scoped>\n",
       "    .dataframe tbody tr th:only-of-type {\n",
       "        vertical-align: middle;\n",
       "    }\n",
       "\n",
       "    .dataframe tbody tr th {\n",
       "        vertical-align: top;\n",
       "    }\n",
       "\n",
       "    .dataframe thead th {\n",
       "        text-align: right;\n",
       "    }\n",
       "</style>\n",
       "<table border=\"1\" class=\"dataframe\">\n",
       "  <thead>\n",
       "    <tr style=\"text-align: right;\">\n",
       "      <th></th>\n",
       "      <th>views</th>\n",
       "      <th>likes</th>\n",
       "      <th>comments</th>\n",
       "      <th>is_ad</th>\n",
       "      <th>is_repost</th>\n",
       "      <th>time</th>\n",
       "    </tr>\n",
       "  </thead>\n",
       "  <tbody>\n",
       "    <tr>\n",
       "      <th>count</th>\n",
       "      <td>6798.000000</td>\n",
       "      <td>6798.000000</td>\n",
       "      <td>6798.000000</td>\n",
       "      <td>6798.000000</td>\n",
       "      <td>6798.000000</td>\n",
       "      <td>6.798000e+03</td>\n",
       "    </tr>\n",
       "    <tr>\n",
       "      <th>mean</th>\n",
       "      <td>45228.591645</td>\n",
       "      <td>263.829803</td>\n",
       "      <td>23.197705</td>\n",
       "      <td>0.115034</td>\n",
       "      <td>0.039865</td>\n",
       "      <td>1.527756e+09</td>\n",
       "    </tr>\n",
       "    <tr>\n",
       "      <th>std</th>\n",
       "      <td>18907.370042</td>\n",
       "      <td>307.198497</td>\n",
       "      <td>69.081790</td>\n",
       "      <td>0.319086</td>\n",
       "      <td>0.195656</td>\n",
       "      <td>2.939017e+07</td>\n",
       "    </tr>\n",
       "    <tr>\n",
       "      <th>min</th>\n",
       "      <td>14987.000000</td>\n",
       "      <td>2.000000</td>\n",
       "      <td>0.000000</td>\n",
       "      <td>0.000000</td>\n",
       "      <td>0.000000</td>\n",
       "      <td>1.483218e+09</td>\n",
       "    </tr>\n",
       "    <tr>\n",
       "      <th>25%</th>\n",
       "      <td>34261.250000</td>\n",
       "      <td>66.000000</td>\n",
       "      <td>5.000000</td>\n",
       "      <td>0.000000</td>\n",
       "      <td>0.000000</td>\n",
       "      <td>1.500835e+09</td>\n",
       "    </tr>\n",
       "    <tr>\n",
       "      <th>50%</th>\n",
       "      <td>41702.500000</td>\n",
       "      <td>158.000000</td>\n",
       "      <td>13.000000</td>\n",
       "      <td>0.000000</td>\n",
       "      <td>0.000000</td>\n",
       "      <td>1.528469e+09</td>\n",
       "    </tr>\n",
       "    <tr>\n",
       "      <th>75%</th>\n",
       "      <td>50034.250000</td>\n",
       "      <td>343.000000</td>\n",
       "      <td>26.000000</td>\n",
       "      <td>0.000000</td>\n",
       "      <td>0.000000</td>\n",
       "      <td>1.552314e+09</td>\n",
       "    </tr>\n",
       "    <tr>\n",
       "      <th>max</th>\n",
       "      <td>304023.000000</td>\n",
       "      <td>5044.000000</td>\n",
       "      <td>4560.000000</td>\n",
       "      <td>1.000000</td>\n",
       "      <td>1.000000</td>\n",
       "      <td>1.583060e+09</td>\n",
       "    </tr>\n",
       "  </tbody>\n",
       "</table>\n",
       "</div>"
      ],
      "text/plain": [
       "               views        likes     comments        is_ad    is_repost  \\\n",
       "count    6798.000000  6798.000000  6798.000000  6798.000000  6798.000000   \n",
       "mean    45228.591645   263.829803    23.197705     0.115034     0.039865   \n",
       "std     18907.370042   307.198497    69.081790     0.319086     0.195656   \n",
       "min     14987.000000     2.000000     0.000000     0.000000     0.000000   \n",
       "25%     34261.250000    66.000000     5.000000     0.000000     0.000000   \n",
       "50%     41702.500000   158.000000    13.000000     0.000000     0.000000   \n",
       "75%     50034.250000   343.000000    26.000000     0.000000     0.000000   \n",
       "max    304023.000000  5044.000000  4560.000000     1.000000     1.000000   \n",
       "\n",
       "               time  \n",
       "count  6.798000e+03  \n",
       "mean   1.527756e+09  \n",
       "std    2.939017e+07  \n",
       "min    1.483218e+09  \n",
       "25%    1.500835e+09  \n",
       "50%    1.528469e+09  \n",
       "75%    1.552314e+09  \n",
       "max    1.583060e+09  "
      ]
     },
     "execution_count": 5,
     "metadata": {},
     "output_type": "execute_result"
    }
   ],
   "source": [
    "df.describe()"
   ]
  },
  {
   "cell_type": "code",
   "execution_count": 6,
   "metadata": {},
   "outputs": [
    {
     "name": "stdout",
     "output_type": "stream",
     "text": [
      "views\n"
     ]
    },
    {
     "data": {
      "image/png": "[encoded data removed]",
      "text/plain": [
       "<Figure size 432x288 with 1 Axes>"
      ]
     },
     "metadata": {
      "needs_background": "light"
     },
     "output_type": "display_data"
    },
    {
     "name": "stdout",
     "output_type": "stream",
     "text": [
      "likes\n"
     ]
    },
    {
     "data": {
      "image/png": "[encoded data removed]",
      "text/plain": [
       "<Figure size 432x288 with 1 Axes>"
      ]
     },
     "metadata": {
      "needs_background": "light"
     },
     "output_type": "display_data"
    },
    {
     "name": "stdout",
     "output_type": "stream",
     "text": [
      "comments\n"
     ]
    },
    {
     "data": {
      "image/png": "[encoded data removed]",
      "text/plain": [
       "<Figure size 432x288 with 1 Axes>"
      ]
     },
     "metadata": {
      "needs_background": "light"
     },
     "output_type": "display_data"
    },
    {
     "name": "stdout",
     "output_type": "stream",
     "text": [
      "is_ad\n"
     ]
    },
    {
     "data": {
      "image/png": "[encoded data removed]",
      "text/plain": [
       "<Figure size 432x288 with 1 Axes>"
      ]
     },
     "metadata": {
      "needs_background": "light"
     },
     "output_type": "display_data"
    },
    {
     "name": "stdout",
     "output_type": "stream",
     "text": [
      "is_repost\n"
     ]
    },
    {
     "data": {
      "image/png": "[encoded data removed]",
      "text/plain": [
       "<Figure size 432x288 with 1 Axes>"
      ]
     },
     "metadata": {
      "needs_background": "light"
     },
     "output_type": "display_data"
    },
    {
     "name": "stdout",
     "output_type": "stream",
     "text": [
      "time\n"
     ]
    },
    {
     "data": {
      "image/png": "[encoded data removed]",
      "text/plain": [
       "<Figure size 432x288 with 1 Axes>"
      ]
     },
     "metadata": {
      "needs_background": "light"
     },
     "output_type": "display_data"
    }
   ],
   "source": [
    "import matplotlib.pyplot as plt\n",
    "%matplotlib inline\n",
    "\n",
    "num_columns = ['views', 'likes', 'comments', 'is_ad', 'is_repost', 'time']\n",
    "\n",
    "for column in num_columns:\n",
    "    print(column)\n",
    "    df[column].hist()\n",
    "    plt.show()"
   ]
  },
  {
   "cell_type": "markdown",
   "metadata": {},
   "source": [
    "В данных выше мы можем увидеть интересные моменты: есть посты с аномально большим числом лайков и комментов. Можно на них посмотреть."
   ]
  },
  {
   "cell_type": "code",
   "execution_count": 7,
   "metadata": {},
   "outputs": [
    {
     "data": {
      "text/html": [
       "<div>\n",
       "<style scoped>\n",
       "    .dataframe tbody tr th:only-of-type {\n",
       "        vertical-align: middle;\n",
       "    }\n",
       "\n",
       "    .dataframe tbody tr th {\n",
       "        vertical-align: top;\n",
       "    }\n",
       "\n",
       "    .dataframe thead th {\n",
       "        text-align: right;\n",
       "    }\n",
       "</style>\n",
       "<table border=\"1\" class=\"dataframe\">\n",
       "  <thead>\n",
       "    <tr style=\"text-align: right;\">\n",
       "      <th></th>\n",
       "      <th>text</th>\n",
       "      <th>views</th>\n",
       "      <th>likes</th>\n",
       "      <th>comments</th>\n",
       "      <th>is_ad</th>\n",
       "      <th>attachments</th>\n",
       "      <th>is_repost</th>\n",
       "      <th>time</th>\n",
       "      <th>raw</th>\n",
       "    </tr>\n",
       "  </thead>\n",
       "  <tbody>\n",
       "    <tr>\n",
       "      <th>1587910</th>\n",
       "      <td>В приложении «ВКонтакте» для Android появилась...</td>\n",
       "      <td>122638</td>\n",
       "      <td>312</td>\n",
       "      <td>4560</td>\n",
       "      <td>0</td>\n",
       "      <td>[{'type': 'photo', 'photo': {'id': 456322633, ...</td>\n",
       "      <td>0</td>\n",
       "      <td>1555400095</td>\n",
       "      <td>{'id': 1587910, 'from_id': -30666517, 'owner_i...</td>\n",
       "    </tr>\n",
       "    <tr>\n",
       "      <th>1611436</th>\n",
       "      <td>Давайте устроим пятничный интерактив.\\n\\nВ ком...</td>\n",
       "      <td>83107</td>\n",
       "      <td>119</td>\n",
       "      <td>1936</td>\n",
       "      <td>0</td>\n",
       "      <td>[{'type': 'photo', 'photo': {'id': 457405135, ...</td>\n",
       "      <td>0</td>\n",
       "      <td>1563542940</td>\n",
       "      <td>{'id': 1611436, 'from_id': -30666517, 'owner_i...</td>\n",
       "    </tr>\n",
       "    <tr>\n",
       "      <th>1579542</th>\n",
       "      <td>Сегодня в России прошли митинги против изоляци...</td>\n",
       "      <td>79485</td>\n",
       "      <td>492</td>\n",
       "      <td>596</td>\n",
       "      <td>0</td>\n",
       "      <td>[{'type': 'photo', 'photo': {'id': 456277864, ...</td>\n",
       "      <td>0</td>\n",
       "      <td>1552245134</td>\n",
       "      <td>{'id': 1579542, 'from_id': -30666517, 'owner_i...</td>\n",
       "    </tr>\n",
       "    <tr>\n",
       "      <th>1624064</th>\n",
       "      <td>Ностальгируем, не стесняемся</td>\n",
       "      <td>59649</td>\n",
       "      <td>180</td>\n",
       "      <td>576</td>\n",
       "      <td>0</td>\n",
       "      <td>[{'type': 'photo', 'photo': {'id': 457486163, ...</td>\n",
       "      <td>0</td>\n",
       "      <td>1568370266</td>\n",
       "      <td>{'id': 1624064, 'from_id': -30666517, 'owner_i...</td>\n",
       "    </tr>\n",
       "    <tr>\n",
       "      <th>1645176</th>\n",
       "      <td>Что вас ждёт в Новом году? Предлагаем вам загл...</td>\n",
       "      <td>43828</td>\n",
       "      <td>37</td>\n",
       "      <td>538</td>\n",
       "      <td>0</td>\n",
       "      <td>[{'type': 'photo', 'photo': {'id': 457635228, ...</td>\n",
       "      <td>0</td>\n",
       "      <td>1577714813</td>\n",
       "      <td>{'id': 1645176, 'from_id': -30666517, 'owner_i...</td>\n",
       "    </tr>\n",
       "  </tbody>\n",
       "</table>\n",
       "</div>"
      ],
      "text/plain": [
       "                                                      text   views  likes  \\\n",
       "1587910  В приложении «ВКонтакте» для Android появилась...  122638    312   \n",
       "1611436  Давайте устроим пятничный интерактив.\\n\\nВ ком...   83107    119   \n",
       "1579542  Сегодня в России прошли митинги против изоляци...   79485    492   \n",
       "1624064                       Ностальгируем, не стесняемся   59649    180   \n",
       "1645176  Что вас ждёт в Новом году? Предлагаем вам загл...   43828     37   \n",
       "\n",
       "         comments  is_ad                                        attachments  \\\n",
       "1587910      4560      0  [{'type': 'photo', 'photo': {'id': 456322633, ...   \n",
       "1611436      1936      0  [{'type': 'photo', 'photo': {'id': 457405135, ...   \n",
       "1579542       596      0  [{'type': 'photo', 'photo': {'id': 456277864, ...   \n",
       "1624064       576      0  [{'type': 'photo', 'photo': {'id': 457486163, ...   \n",
       "1645176       538      0  [{'type': 'photo', 'photo': {'id': 457635228, ...   \n",
       "\n",
       "         is_repost        time  \\\n",
       "1587910          0  1555400095   \n",
       "1611436          0  1563542940   \n",
       "1579542          0  1552245134   \n",
       "1624064          0  1568370266   \n",
       "1645176          0  1577714813   \n",
       "\n",
       "                                                       raw  \n",
       "1587910  {'id': 1587910, 'from_id': -30666517, 'owner_i...  \n",
       "1611436  {'id': 1611436, 'from_id': -30666517, 'owner_i...  \n",
       "1579542  {'id': 1579542, 'from_id': -30666517, 'owner_i...  \n",
       "1624064  {'id': 1624064, 'from_id': -30666517, 'owner_i...  \n",
       "1645176  {'id': 1645176, 'from_id': -30666517, 'owner_i...  "
      ]
     },
     "execution_count": 7,
     "metadata": {},
     "output_type": "execute_result"
    }
   ],
   "source": [
    "df.sort_values('comments', ascending=False)[:5]"
   ]
  },
  {
   "cell_type": "code",
   "execution_count": 8,
   "metadata": {},
   "outputs": [
    {
     "data": {
      "text/html": [
       "<div>\n",
       "<style scoped>\n",
       "    .dataframe tbody tr th:only-of-type {\n",
       "        vertical-align: middle;\n",
       "    }\n",
       "\n",
       "    .dataframe tbody tr th {\n",
       "        vertical-align: top;\n",
       "    }\n",
       "\n",
       "    .dataframe thead th {\n",
       "        text-align: right;\n",
       "    }\n",
       "</style>\n",
       "<table border=\"1\" class=\"dataframe\">\n",
       "  <thead>\n",
       "    <tr style=\"text-align: right;\">\n",
       "      <th></th>\n",
       "      <th>text</th>\n",
       "      <th>views</th>\n",
       "      <th>likes</th>\n",
       "      <th>comments</th>\n",
       "      <th>is_ad</th>\n",
       "      <th>attachments</th>\n",
       "      <th>is_repost</th>\n",
       "      <th>time</th>\n",
       "      <th>raw</th>\n",
       "    </tr>\n",
       "  </thead>\n",
       "  <tbody>\n",
       "    <tr>\n",
       "      <th>1566145</th>\n",
       "      <td></td>\n",
       "      <td>212569</td>\n",
       "      <td>5044</td>\n",
       "      <td>144</td>\n",
       "      <td>0</td>\n",
       "      <td>[{'type': 'photo', 'photo': {'id': 456272768, ...</td>\n",
       "      <td>0</td>\n",
       "      <td>1546290005</td>\n",
       "      <td>{'id': 1566145, 'from_id': -30666517, 'owner_i...</td>\n",
       "    </tr>\n",
       "    <tr>\n",
       "      <th>1495237</th>\n",
       "      <td>Видеокурс «Основы программирования». \\n \\nРусс...</td>\n",
       "      <td>64540</td>\n",
       "      <td>4359</td>\n",
       "      <td>11</td>\n",
       "      <td>0</td>\n",
       "      <td>[{'type': 'video', 'video': {'access_key': '76...</td>\n",
       "      <td>0</td>\n",
       "      <td>1500307628</td>\n",
       "      <td>{'id': 1495237, 'from_id': -30666517, 'owner_i...</td>\n",
       "    </tr>\n",
       "    <tr>\n",
       "      <th>1452322</th>\n",
       "      <td>Year++, программисты!</td>\n",
       "      <td>135405</td>\n",
       "      <td>2972</td>\n",
       "      <td>127</td>\n",
       "      <td>0</td>\n",
       "      <td>[{'type': 'photo', 'photo': {'id': 456240507, ...</td>\n",
       "      <td>0</td>\n",
       "      <td>1483218155</td>\n",
       "      <td>{'id': 1452322, 'from_id': -30666517, 'owner_i...</td>\n",
       "    </tr>\n",
       "    <tr>\n",
       "      <th>1483520</th>\n",
       "      <td>Подготовили для вас перевод подробного руковод...</td>\n",
       "      <td>96808</td>\n",
       "      <td>2925</td>\n",
       "      <td>17</td>\n",
       "      <td>0</td>\n",
       "      <td>[{'type': 'link', 'link': {'url': 'https://tpr...</td>\n",
       "      <td>0</td>\n",
       "      <td>1493226250</td>\n",
       "      <td>{'id': 1483520, 'from_id': -30666517, 'owner_i...</td>\n",
       "    </tr>\n",
       "    <tr>\n",
       "      <th>1520134</th>\n",
       "      <td>Привет. Просто анимированная форма логина, зац...</td>\n",
       "      <td>76559</td>\n",
       "      <td>2661</td>\n",
       "      <td>66</td>\n",
       "      <td>0</td>\n",
       "      <td>[{'type': 'doc', 'doc': {'id': 460704137, 'own...</td>\n",
       "      <td>0</td>\n",
       "      <td>1519661280</td>\n",
       "      <td>{'id': 1520134, 'from_id': -30666517, 'owner_i...</td>\n",
       "    </tr>\n",
       "  </tbody>\n",
       "</table>\n",
       "</div>"
      ],
      "text/plain": [
       "                                                      text   views  likes  \\\n",
       "1566145                                                     212569   5044   \n",
       "1495237  Видеокурс «Основы программирования». \\n \\nРусс...   64540   4359   \n",
       "1452322                              Year++, программисты!  135405   2972   \n",
       "1483520  Подготовили для вас перевод подробного руковод...   96808   2925   \n",
       "1520134  Привет. Просто анимированная форма логина, зац...   76559   2661   \n",
       "\n",
       "         comments  is_ad                                        attachments  \\\n",
       "1566145       144      0  [{'type': 'photo', 'photo': {'id': 456272768, ...   \n",
       "1495237        11      0  [{'type': 'video', 'video': {'access_key': '76...   \n",
       "1452322       127      0  [{'type': 'photo', 'photo': {'id': 456240507, ...   \n",
       "1483520        17      0  [{'type': 'link', 'link': {'url': 'https://tpr...   \n",
       "1520134        66      0  [{'type': 'doc', 'doc': {'id': 460704137, 'own...   \n",
       "\n",
       "         is_repost        time  \\\n",
       "1566145          0  1546290005   \n",
       "1495237          0  1500307628   \n",
       "1452322          0  1483218155   \n",
       "1483520          0  1493226250   \n",
       "1520134          0  1519661280   \n",
       "\n",
       "                                                       raw  \n",
       "1566145  {'id': 1566145, 'from_id': -30666517, 'owner_i...  \n",
       "1495237  {'id': 1495237, 'from_id': -30666517, 'owner_i...  \n",
       "1452322  {'id': 1452322, 'from_id': -30666517, 'owner_i...  \n",
       "1483520  {'id': 1483520, 'from_id': -30666517, 'owner_i...  \n",
       "1520134  {'id': 1520134, 'from_id': -30666517, 'owner_i...  "
      ]
     },
     "execution_count": 8,
     "metadata": {},
     "output_type": "execute_result"
    }
   ],
   "source": [
    "df.sort_values('likes', ascending=False)[:5]"
   ]
  },
  {
   "cell_type": "markdown",
   "metadata": {},
   "source": [
    "#### Feature Engineering и предварительная обработка"
   ]
  },
  {
   "cell_type": "markdown",
   "metadata": {},
   "source": [
    "Визуально мы заметили, что некоторые посты отмечены хэш-тегом \"\\#партнерский\". Попробуем найти такие посты и посмотреть, отмечены ли они как реклама.\n",
    "\n",
    "Для это применим функцию к столбцу text и получим новый столбец."
   ]
  },
  {
   "cell_type": "code",
   "execution_count": 9,
   "metadata": {},
   "outputs": [],
   "source": [
    "def is_partner(text):\n",
    "    if \"#партнерский\" in text.replace('ё', 'е').lower():\n",
    "        return 1\n",
    "    else:\n",
    "        return 0\n",
    "    \n",
    "# df['is_partner'] = df['text'].apply(is_partner)"
   ]
  },
  {
   "cell_type": "code",
   "execution_count": 24,
   "metadata": {},
   "outputs": [
    {
     "data": {
      "text/plain": [
       "1653786    1581689820\n",
       "1656168    1583059620\n",
       "1656033    1583043360\n",
       "1655979    1582993140\n",
       "1655966    1582977960\n",
       "              ...    \n",
       "1452548    1483268513\n",
       "1452510    1483259464\n",
       "1452492    1483250489\n",
       "1452409    1483225265\n",
       "1452322    1483218155\n",
       "Name: time, Length: 6798, dtype: int64"
      ]
     },
     "execution_count": 24,
     "metadata": {},
     "output_type": "execute_result"
    }
   ],
   "source": [
    "df['time']"
   ]
  },
  {
   "cell_type": "code",
   "execution_count": 56,
   "metadata": {},
   "outputs": [],
   "source": [
    "# additional column that keeps bool\n",
    "def is_holiday(unix_time):\n",
    "    dates= ['0125', '0401', '0412', '0524', '0601', '0708', '0822', '0901', '1005', '1212']\n",
    "    \n",
    "    date = datetime.datetime.fromtimestamp(unix_time)\n",
    "    d = str(date.date())\n",
    "    if d[5:10].replace('-', '') in dates:\n",
    "        return True\n",
    "    else:\n",
    "        return False\n",
    "\n",
    "df['is_holiday'] = df['time'].apply(is_holiday)"
   ]
  },
  {
   "cell_type": "code",
   "execution_count": 10,
   "metadata": {},
   "outputs": [],
   "source": [
    "df = df.drop(columns=['is_repost'])"
   ]
  },
  {
   "cell_type": "markdown",
   "metadata": {},
   "source": [
    "Интересно, а все ли посты, отмеченные, как партнерские, помечены, как реклама."
   ]
  },
  {
   "cell_type": "markdown",
   "metadata": {},
   "source": [
    "Оказывается, нет! Выходит, мы только что придумали, как достать новую информацию из уже имеющихся данных. Это называется **feature ingineerring**. Именно в этом и состоит *искусство* машинного обучения.\n",
    "\n",
    "https://habr.com/ru/company/mlclass/blog/248129/\n",
    "\n",
    "Еще у нас есть время публикации. Попробуем достать из него, например, день недели.\n",
    "\n",
    "https://stackoverflow.com/questions/9847213/how-do-i-get-the-day-of-week-given-a-date"
   ]
  },
  {
   "cell_type": "code",
   "execution_count": 12,
   "metadata": {},
   "outputs": [
    {
     "name": "stdout",
     "output_type": "stream",
     "text": [
      "Today: Sunday\n"
     ]
    }
   ],
   "source": [
    "from datetime import date\n",
    "import calendar\n",
    "\n",
    "# test\n",
    "print(\"Today:\", calendar.day_name[datetime.datetime.today().weekday()])\n",
    "\n",
    "\n",
    "def get_weekday(unix_time):\n",
    "    date = datetime.datetime.fromtimestamp(unix_time)\n",
    "    return calendar.day_name[date.weekday()]\n",
    "\n",
    "\n",
    "df['weekday'] = df['time'].apply(get_weekday)   "
   ]
  },
  {
   "cell_type": "code",
   "execution_count": 13,
   "metadata": {},
   "outputs": [
    {
     "data": {
      "text/plain": [
       "<matplotlib.axes._subplots.AxesSubplot at 0x7f939927e390>"
      ]
     },
     "execution_count": 13,
     "metadata": {},
     "output_type": "execute_result"
    },
    {
     "data": {
      "image/png": "[encoded data removed]",
      "text/plain": [
       "<Figure size 432x288 with 1 Axes>"
      ]
     },
     "metadata": {
      "needs_background": "light"
     },
     "output_type": "display_data"
    }
   ],
   "source": [
    "df['weekday'].hist()"
   ]
  },
  {
   "cell_type": "markdown",
   "metadata": {},
   "source": [
    "Как отправить эти данные в машину? Превратить в числа. Первое что приходит в голову - просто выдать номер для каждого для недели.\n",
    "\n",
    "Но тогда получится, что воскренье больше понедельника, что не так - они идут подряд, а это может сбить некоторые модели с толку. Поэтому вместо этого создадим по булевому признаку для каждого дня недели."
   ]
  },
  {
   "cell_type": "code",
   "execution_count": 57,
   "metadata": {},
   "outputs": [],
   "source": [
    "df = pd.concat([df, pd.get_dummies(df['weekday'], prefix='is_')] , axis=1)"
   ]
  },
  {
   "cell_type": "code",
   "execution_count": 58,
   "metadata": {},
   "outputs": [
    {
     "data": {
      "text/html": [
       "<div>\n",
       "<style scoped>\n",
       "    .dataframe tbody tr th:only-of-type {\n",
       "        vertical-align: middle;\n",
       "    }\n",
       "\n",
       "    .dataframe tbody tr th {\n",
       "        vertical-align: top;\n",
       "    }\n",
       "\n",
       "    .dataframe thead th {\n",
       "        text-align: right;\n",
       "    }\n",
       "</style>\n",
       "<table border=\"1\" class=\"dataframe\">\n",
       "  <thead>\n",
       "    <tr style=\"text-align: right;\">\n",
       "      <th></th>\n",
       "      <th>text</th>\n",
       "      <th>views</th>\n",
       "      <th>likes</th>\n",
       "      <th>comments</th>\n",
       "      <th>is_ad</th>\n",
       "      <th>attachments</th>\n",
       "      <th>time</th>\n",
       "      <th>raw</th>\n",
       "      <th>weekday</th>\n",
       "      <th>is_holiday</th>\n",
       "      <th>is__Friday</th>\n",
       "      <th>is__Monday</th>\n",
       "      <th>is__Saturday</th>\n",
       "      <th>is__Sunday</th>\n",
       "      <th>is__Thursday</th>\n",
       "      <th>is__Tuesday</th>\n",
       "      <th>is__Wednesday</th>\n",
       "    </tr>\n",
       "  </thead>\n",
       "  <tbody>\n",
       "    <tr>\n",
       "      <th>1653786</th>\n",
       "      <td>Шарите в Java? Есть отличный шанс это продемон...</td>\n",
       "      <td>97431</td>\n",
       "      <td>460</td>\n",
       "      <td>166</td>\n",
       "      <td>0</td>\n",
       "      <td>[{'type': 'photo', 'photo': {'id': 457676504, ...</td>\n",
       "      <td>1581689820</td>\n",
       "      <td>{'id': 1653786, 'from_id': -30666517, 'owner_i...</td>\n",
       "      <td>Friday</td>\n",
       "      <td>False</td>\n",
       "      <td>1</td>\n",
       "      <td>0</td>\n",
       "      <td>0</td>\n",
       "      <td>0</td>\n",
       "      <td>0</td>\n",
       "      <td>0</td>\n",
       "      <td>0</td>\n",
       "    </tr>\n",
       "    <tr>\n",
       "      <th>1656168</th>\n",
       "      <td>M, A и T — уникальные цифры, причём MAM + MAT ...</td>\n",
       "      <td>20239</td>\n",
       "      <td>65</td>\n",
       "      <td>57</td>\n",
       "      <td>0</td>\n",
       "      <td>[{'type': 'photo', 'photo': {'id': 457666888, ...</td>\n",
       "      <td>1583059620</td>\n",
       "      <td>{'id': 1656168, 'from_id': -30666517, 'owner_i...</td>\n",
       "      <td>Sunday</td>\n",
       "      <td>False</td>\n",
       "      <td>0</td>\n",
       "      <td>0</td>\n",
       "      <td>0</td>\n",
       "      <td>1</td>\n",
       "      <td>0</td>\n",
       "      <td>0</td>\n",
       "      <td>0</td>\n",
       "    </tr>\n",
       "    <tr>\n",
       "      <th>1656033</th>\n",
       "      <td>Просто ламповое фото.\\n\\nЗа ламповость отвечае...</td>\n",
       "      <td>41305</td>\n",
       "      <td>290</td>\n",
       "      <td>135</td>\n",
       "      <td>0</td>\n",
       "      <td>[{'type': 'photo', 'photo': {'id': 457675926, ...</td>\n",
       "      <td>1583043360</td>\n",
       "      <td>{'id': 1656033, 'from_id': -30666517, 'owner_i...</td>\n",
       "      <td>Sunday</td>\n",
       "      <td>False</td>\n",
       "      <td>0</td>\n",
       "      <td>0</td>\n",
       "      <td>0</td>\n",
       "      <td>1</td>\n",
       "      <td>0</td>\n",
       "      <td>0</td>\n",
       "      <td>0</td>\n",
       "    </tr>\n",
       "    <tr>\n",
       "      <th>1655979</th>\n",
       "      <td>Хотите научиться программировать? Или изучить ...</td>\n",
       "      <td>40166</td>\n",
       "      <td>297</td>\n",
       "      <td>27</td>\n",
       "      <td>0</td>\n",
       "      <td>[{'type': 'photo', 'photo': {'id': 457686360, ...</td>\n",
       "      <td>1582993140</td>\n",
       "      <td>{'id': 1655979, 'from_id': -30666517, 'owner_i...</td>\n",
       "      <td>Saturday</td>\n",
       "      <td>False</td>\n",
       "      <td>0</td>\n",
       "      <td>0</td>\n",
       "      <td>1</td>\n",
       "      <td>0</td>\n",
       "      <td>0</td>\n",
       "      <td>0</td>\n",
       "      <td>0</td>\n",
       "    </tr>\n",
       "    <tr>\n",
       "      <th>1655966</th>\n",
       "      <td>Большая шпаргалка по нейросетям:\\n\\nЧасть 1: h...</td>\n",
       "      <td>48282</td>\n",
       "      <td>405</td>\n",
       "      <td>3</td>\n",
       "      <td>0</td>\n",
       "      <td>[{'type': 'photo', 'photo': {'id': 457682157, ...</td>\n",
       "      <td>1582977960</td>\n",
       "      <td>{'id': 1655966, 'from_id': -30666517, 'owner_i...</td>\n",
       "      <td>Saturday</td>\n",
       "      <td>False</td>\n",
       "      <td>0</td>\n",
       "      <td>0</td>\n",
       "      <td>1</td>\n",
       "      <td>0</td>\n",
       "      <td>0</td>\n",
       "      <td>0</td>\n",
       "      <td>0</td>\n",
       "    </tr>\n",
       "  </tbody>\n",
       "</table>\n",
       "</div>"
      ],
      "text/plain": [
       "                                                      text  views  likes  \\\n",
       "1653786  Шарите в Java? Есть отличный шанс это продемон...  97431    460   \n",
       "1656168  M, A и T — уникальные цифры, причём MAM + MAT ...  20239     65   \n",
       "1656033  Просто ламповое фото.\\n\\nЗа ламповость отвечае...  41305    290   \n",
       "1655979  Хотите научиться программировать? Или изучить ...  40166    297   \n",
       "1655966  Большая шпаргалка по нейросетям:\\n\\nЧасть 1: h...  48282    405   \n",
       "\n",
       "         comments  is_ad                                        attachments  \\\n",
       "1653786       166      0  [{'type': 'photo', 'photo': {'id': 457676504, ...   \n",
       "1656168        57      0  [{'type': 'photo', 'photo': {'id': 457666888, ...   \n",
       "1656033       135      0  [{'type': 'photo', 'photo': {'id': 457675926, ...   \n",
       "1655979        27      0  [{'type': 'photo', 'photo': {'id': 457686360, ...   \n",
       "1655966         3      0  [{'type': 'photo', 'photo': {'id': 457682157, ...   \n",
       "\n",
       "               time                                                raw  \\\n",
       "1653786  1581689820  {'id': 1653786, 'from_id': -30666517, 'owner_i...   \n",
       "1656168  1583059620  {'id': 1656168, 'from_id': -30666517, 'owner_i...   \n",
       "1656033  1583043360  {'id': 1656033, 'from_id': -30666517, 'owner_i...   \n",
       "1655979  1582993140  {'id': 1655979, 'from_id': -30666517, 'owner_i...   \n",
       "1655966  1582977960  {'id': 1655966, 'from_id': -30666517, 'owner_i...   \n",
       "\n",
       "          weekday  is_holiday  is__Friday  is__Monday  is__Saturday  \\\n",
       "1653786    Friday       False           1           0             0   \n",
       "1656168    Sunday       False           0           0             0   \n",
       "1656033    Sunday       False           0           0             0   \n",
       "1655979  Saturday       False           0           0             1   \n",
       "1655966  Saturday       False           0           0             1   \n",
       "\n",
       "         is__Sunday  is__Thursday  is__Tuesday  is__Wednesday  \n",
       "1653786           0             0            0              0  \n",
       "1656168           1             0            0              0  \n",
       "1656033           1             0            0              0  \n",
       "1655979           0             0            0              0  \n",
       "1655966           0             0            0              0  "
      ]
     },
     "execution_count": 58,
     "metadata": {},
     "output_type": "execute_result"
    }
   ],
   "source": [
    "df.head()"
   ]
  },
  {
   "cell_type": "markdown",
   "metadata": {},
   "source": [
    "Сделаем еще пару признаков - длина текста и количество вложений."
   ]
  },
  {
   "cell_type": "code",
   "execution_count": 59,
   "metadata": {},
   "outputs": [],
   "source": [
    "df['attachments_len'] = df['attachments'].apply(lambda x:len(x))\n",
    "df['text_len'] = df['text'].apply(lambda x:len(x))"
   ]
  },
  {
   "cell_type": "markdown",
   "metadata": {},
   "source": [
    "#### Убираем аутлайнеров\n",
    "\n",
    "Как мы видели ранее, в наших данных есть очень нетипичные почты, которые сильно отличаются от остальных. Например, пост про новый год, у которого очень много лайков.\n",
    "\n",
    "Если мы хотим сделать модель с более высокой обобщающей способностью, такие данные полезно отбросить. Например, можно посмотреть на стандартное отклонение и отбросить все, что лежит сильно дальше среднего.\n",
    "\n",
    "Однако, становится ли от этого лучше, стоит отдельно проверить позже."
   ]
  },
  {
   "cell_type": "code",
   "execution_count": 60,
   "metadata": {},
   "outputs": [],
   "source": [
    "learn_df = df.drop(columns=['text', 'attachments', 'raw', 'weekday'])"
   ]
  },
  {
   "cell_type": "code",
   "execution_count": 61,
   "metadata": {},
   "outputs": [
    {
     "name": "stdout",
     "output_type": "stream",
     "text": [
      "(6798, 19)\n",
      "(6004, 15)\n"
     ]
    }
   ],
   "source": [
    "def not_outliner(value, mean_value, std_value):\n",
    "    if mean_value - 3 * std_value < value < mean_value + 3 * std_value:\n",
    "        return True\n",
    "    return False\n",
    "\n",
    "for column in learn_df.columns:\n",
    "    mean_value = df[column].mean()\n",
    "    std_value = df[column].std()\n",
    "    regular_posts = learn_df[column].apply(lambda x: not_outliner(x, mean_value, std_value))\n",
    "    learn_df = learn_df[regular_posts]\n",
    "\n",
    "print(df.shape)\n",
    "print(learn_df.shape)"
   ]
  },
  {
   "cell_type": "markdown",
   "metadata": {},
   "source": [
    "#### Обучаем модели"
   ]
  },
  {
   "cell_type": "code",
   "execution_count": 62,
   "metadata": {},
   "outputs": [],
   "source": [
    "X = learn_df.drop(columns=['views'])\n",
    "Y = learn_df['views']"
   ]
  },
  {
   "cell_type": "code",
   "execution_count": 63,
   "metadata": {},
   "outputs": [],
   "source": [
    "from sklearn.model_selection import train_test_split\n",
    "\n",
    "X_train, X_test, Y_train, Y_test = train_test_split(X, Y, random_state=42)"
   ]
  },
  {
   "cell_type": "code",
   "execution_count": 64,
   "metadata": {},
   "outputs": [],
   "source": [
    "from sklearn.preprocessing import StandardScaler\n",
    "\n",
    "scaler = StandardScaler()\n",
    "scaler.fit(X_train)\n",
    "\n",
    "X_train = scaler.transform(X_train)\n",
    "X_test = scaler.transform(X_test)"
   ]
  },
  {
   "cell_type": "code",
   "execution_count": 65,
   "metadata": {},
   "outputs": [
    {
     "name": "stdout",
     "output_type": "stream",
     "text": [
      "\n",
      "Model:  linear\n",
      "Train MSE: 9724.84398370423\n",
      "Test MSE: 10026.954927538714\n",
      "\n",
      "Model:  linear with regularisation\n",
      "Train MSE: 9714.555624588738\n",
      "Test MSE: 10041.03557760566\n",
      "\n",
      "Model:  tree\n",
      "Train MSE: 8341.110676840515\n",
      "Test MSE: 8961.509776365338\n",
      "\n",
      "Model:  forest\n",
      "Train MSE: 2865.1252994606352\n",
      "Test MSE: 7864.599423155876\n",
      "\n",
      "Model:  gradient_boosting\n",
      "Train MSE: 6957.456858029286\n",
      "Test MSE: 8015.296134605257\n"
     ]
    }
   ],
   "source": [
    "from sklearn.linear_model import LinearRegression, Ridge\n",
    "from sklearn.tree import DecisionTreeRegressor\n",
    "from sklearn.ensemble import RandomForestRegressor, GradientBoostingRegressor\n",
    "from sklearn.metrics import mean_squared_error\n",
    "\n",
    "models = {\n",
    "    \"linear\": LinearRegression(),\n",
    "    \"linear with regularisation\": Ridge(),\n",
    "    \"tree\": DecisionTreeRegressor(max_depth=5),\n",
    "    \"forest\": RandomForestRegressor(),\n",
    "    \"gradient_boosting\": GradientBoostingRegressor()\n",
    "}\n",
    "\n",
    "for model_name in models:\n",
    "    models[model_name].fit(X_train, Y_train)\n",
    "    train_predictions = models[model_name].predict(X_train)\n",
    "    test_predictions = models[model_name].predict(X_test)\n",
    "    \n",
    "    print(\"\")\n",
    "    print(\"Model: \", model_name)\n",
    "    print(\"Train MSE:\", mean_squared_error(Y_train, train_predictions) ** 0.5)\n",
    "    print(\"Test MSE:\", mean_squared_error(Y_test, test_predictions) ** 0.5)"
   ]
  },
  {
   "cell_type": "markdown",
   "metadata": {},
   "source": [
    "На данный момент лучше всего работает случайный лес и градиентный бустинг. Можно посмотреть, на какие признаки он опирается."
   ]
  },
  {
   "cell_type": "code",
   "execution_count": 66,
   "metadata": {},
   "outputs": [
    {
     "name": "stdout",
     "output_type": "stream",
     "text": [
      "is_holiday  -  0.0\n",
      "is__Monday  -  0.004660018137949534\n",
      "is__Saturday  -  0.005362938476817691\n",
      "is__Tuesday  -  0.005399467366174182\n",
      "is__Friday  -  0.005400410005946114\n",
      "is__Wednesday  -  0.006468356790836421\n",
      "is__Thursday  -  0.006612078434968855\n",
      "is_ad  -  0.007397868135261241\n",
      "is__Sunday  -  0.009231805531561369\n",
      "attachments_len  -  0.05195949963548202\n",
      "comments  -  0.0629802412776922\n",
      "text_len  -  0.08079102776479406\n",
      "time  -  0.22326483410029954\n",
      "likes  -  0.5304714543422169\n"
     ]
    }
   ],
   "source": [
    "for (w, n) in sorted(zip(models[\"forest\"].feature_importances_, X.columns)):\n",
    "    print(n, \" - \", w)"
   ]
  },
  {
   "cell_type": "markdown",
   "metadata": {},
   "source": [
    "Чтобы посмотреть, влияют ли признаки негативно или положительно можем дополнительно посмотреть на регрессию."
   ]
  },
  {
   "cell_type": "code",
   "execution_count": 67,
   "metadata": {},
   "outputs": [
    {
     "name": "stdout",
     "output_type": "stream",
     "text": [
      "is_holiday  -  -7.909341444822358e+16\n",
      "time  -  -668.0859921215165\n",
      "attachments_len  -  -524.8537810515625\n",
      "text_len  -  1057.1420127047986\n",
      "is_ad  -  1085.9872077716745\n",
      "comments  -  2239.017220077638\n",
      "likes  -  8651.073458102295\n",
      "is__Sunday  -  2.5969560756947136e+17\n",
      "is__Saturday  -  2.6707879116402022e+17\n",
      "is__Friday  -  2.8158895608703664e+17\n",
      "is__Monday  -  2.8816118409131946e+17\n",
      "is__Thursday  -  2.9512504928959155e+17\n",
      "is__Tuesday  -  2.951250492895919e+17\n",
      "is__Wednesday  -  2.959716767437318e+17\n"
     ]
    }
   ],
   "source": [
    "for (w, n) in sorted(zip(models[\"linear\"].coef_, X.columns)):\n",
    "    print(n, \" - \", w)"
   ]
  },
  {
   "cell_type": "markdown",
   "metadata": {},
   "source": [
    "Выходит, что лучше всего публиковать посты в воскресенье, а хуже всего в среду. Много вложений - это плохо."
   ]
  }
 ],
 "metadata": {
  "kernelspec": {
   "display_name": "Python 3",
   "language": "python",
   "name": "python3"
  },
  "language_info": {
   "codemirror_mode": {
    "name": "ipython",
    "version": 3
   },
   "file_extension": ".py",
   "mimetype": "text/x-python",
   "name": "python",
   "nbconvert_exporter": "python",
   "pygments_lexer": "ipython3",
   "version": "3.6.9"
  }
 },
 "nbformat": 4,
 "nbformat_minor": 4
}
