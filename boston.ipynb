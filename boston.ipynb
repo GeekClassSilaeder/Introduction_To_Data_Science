{
 "cells": [
  {
   "cell_type": "code",
   "execution_count": 19,
   "metadata": {},
   "outputs": [],
   "source": [
    "import csv\n",
    "\n",
    "X = []\n",
    "Y = []\n",
    "apnd = []\n",
    "with open('Boston_Housing.csv', newline='') as csvfile:\n",
    "    text = csv.reader(csvfile, delimiter=',')\n",
    "    for row in text:\n",
    "        if row[0] != 'crim':\n",
    "            for i in range(len(row)):\n",
    "                if i != len(row) - 1:\n",
    "                    row[i] = float(row[i])\n",
    "                else:\n",
    "                    Y.append(float(row[i]))\n",
    "                \n",
    "            X.append(row[0 : len(row) - 1])\n",
    "\n",
    "# print(Y)"
   ]
  },
  {
   "cell_type": "code",
   "execution_count": 12,
   "metadata": {},
   "outputs": [
    {
     "data": {
      "text/plain": [
       "9.19710408737982"
      ]
     },
     "execution_count": 12,
     "metadata": {},
     "output_type": "execute_result"
    }
   ],
   "source": [
    "# STD\n",
    "from math import sqrt\n",
    "mean = sum(Y) / len(Y)\n",
    "\n",
    "summ = [(elem - mean) ** 2 for elem in Y]\n",
    "sqrt(sum(summ) / (len(Y) - 1))"
   ]
  },
  {
   "cell_type": "code",
   "execution_count": 34,
   "metadata": {},
   "outputs": [
    {
     "data": {
      "text/plain": [
       "[-0.41936692921321594,\n",
       " 0.2845482693404666,\n",
       " -1.2866362317172035,\n",
       " -0.272329067679207,\n",
       " -0.1440748547324509,\n",
       " 0.4132629204530747,\n",
       " -0.119894767215809,\n",
       " 0.1400749839795629,\n",
       " -0.981871187861867,\n",
       " -0.6659491794887338,\n",
       " -1.457557967289609,\n",
       " 0.4406158949991029,\n",
       " -1.074498970343932]"
      ]
     },
     "execution_count": 34,
     "metadata": {},
     "output_type": "execute_result"
    }
   ],
   "source": [
    "from math import sqrt\n",
    "\n",
    "for i in range(len(X[0])):\n",
    "    mean = sum([s[i] for s in X]) / len(X)\n",
    "    \n",
    "    summ = [(elem[i] - mean) ** 2 for elem in X]\n",
    "    std = sqrt(sum(summ) / (len(X) - 1))\n",
    "    \n",
    "    for j in range(len(X)):\n",
    "        X[j][i] = (X[j][i] - mean) / std \n",
    "    \n",
    "X[0]"
   ]
  },
  {
   "cell_type": "code",
   "execution_count": 26,
   "metadata": {},
   "outputs": [
    {
     "data": {
      "image/png": "[encoded data removed]",
      "text/plain": [
       "<Figure size 432x288 with 1 Axes>"
      ]
     },
     "metadata": {
      "needs_background": "light"
     },
     "output_type": "display_data"
    }
   ],
   "source": [
    "# gistogram\n",
    "import matplotlib.pyplot as plt\n",
    "\n",
    "plt.hist(Y)\n",
    "plt.show()"
   ]
  },
  {
   "cell_type": "code",
   "execution_count": 36,
   "metadata": {
    "scrolled": true
   },
   "outputs": [],
   "source": [
    "from sklearn.linear_model import LinearRegression\n",
    "\n",
    "model = LinearRegression()\n",
    "model.fit(X, Y)\n",
    "\n",
    "# k = model.coef_\n",
    "# b = model.intercept_\n",
    "\n",
    "# print(f'k = {k}')\n",
    "# print(f'b = {b}')\n",
    "\n",
    "Y_predicted = model.predict(X)"
   ]
  },
  {
   "cell_type": "code",
   "execution_count": 37,
   "metadata": {},
   "outputs": [
    {
     "name": "stdout",
     "output_type": "stream",
     "text": [
      "0.2475889569052056\n"
     ]
    }
   ],
   "source": [
    "import math\n",
    "\n",
    "dist = [((Y[i] - Y_predicted[i]) / Y[i]) ** 2 for i in range(len(Y_predicted))]\n",
    "print(math.sqrt(sum(dist) / len(dist)))"
   ]
  },
  {
   "cell_type": "code",
   "execution_count": 38,
   "metadata": {},
   "outputs": [
    {
     "name": "stdout",
     "output_type": "stream",
     "text": [
      "4.679191295697282\n"
     ]
    }
   ],
   "source": [
    "from sklearn.metrics import mean_squared_error\n",
    "\n",
    "print(mean_squared_error(Y, Y_predicted) ** 0.5)"
   ]
  },
  {
   "cell_type": "code",
   "execution_count": 39,
   "metadata": {},
   "outputs": [
    {
     "data": {
      "text/plain": [
       "-278.8525207081589"
      ]
     },
     "execution_count": 39,
     "metadata": {},
     "output_type": "execute_result"
    }
   ],
   "source": [
    "Y_ans = model.predict([[0.00632, 18, 2.31, 0, 0.538, 6.575, 65.2, 4.09, 1, 296, 15.3, 396, 4.98]])\n",
    "Y_ans[0]"
   ]
  },
  {
   "cell_type": "code",
   "execution_count": 40,
   "metadata": {},
   "outputs": [
    {
     "name": "stdout",
     "output_type": "stream",
     "text": [
      "[array([-0.92906457,  1.08263896,  0.14103943,  0.68241438, -2.05875361,\n",
      "        2.67687661,  0.01948534, -3.10711605,  2.6648522 , -2.07883689,\n",
      "       -2.06264585,  0.85010886, -3.74733185])]\n"
     ]
    }
   ],
   "source": [
    "names = ['CRIM', 'ZN', 'INDUS', 'NOX', 'RM', 'AGE', 'DIS', 'RAD', 'TAX', 'PTRATIO', 'B', 'LSTAT']\n",
    "print([model.coef_])"
   ]
  },
  {
   "cell_type": "code",
   "execution_count": null,
   "metadata": {},
   "outputs": [],
   "source": []
  }
 ],
 "metadata": {
  "kernelspec": {
   "display_name": "Python 3",
   "language": "python",
   "name": "python3"
  },
  "language_info": {
   "codemirror_mode": {
    "name": "ipython",
    "version": 3
   },
   "file_extension": ".py",
   "mimetype": "text/x-python",
   "name": "python",
   "nbconvert_exporter": "python",
   "pygments_lexer": "ipython3",
   "version": "3.8.0"
  }
 },
 "nbformat": 4,
 "nbformat_minor": 4
}
