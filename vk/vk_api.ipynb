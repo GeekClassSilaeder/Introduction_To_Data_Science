{
 "cells": [
  {
   "cell_type": "markdown",
   "metadata": {},
   "source": [
    "#### Скачивание данных"
   ]
  },
  {
   "cell_type": "code",
   "execution_count": 6,
   "metadata": {},
   "outputs": [
    {
     "name": "stdout",
     "output_type": "stream",
     "text": [
      "Defaulting to user installation because normal site-packages is not writeable\n",
      "Requirement already satisfied: vk in /home/pavtiger/.local/lib/python3.6/site-packages (2.0.2)\n",
      "Requirement already satisfied: requests<3.0,>=2.8 in /usr/lib/python3/dist-packages (from vk) (2.18.4)\n",
      "Defaulting to user installation because normal site-packages is not writeable\n",
      "Requirement already satisfied: tqdm in /home/pavtiger/.local/lib/python3.6/site-packages (4.43.0)\n"
     ]
    }
   ],
   "source": [
    "!pip3 install vk\n",
    "!pip install tqdm"
   ]
  },
  {
   "cell_type": "markdown",
   "metadata": {},
   "source": [
    "Аккуратно скачаем все посты из группы.\n",
    "\n",
    "* Используем tqdm для удобного вывода прогресса.\n",
    "* На всякий случай запомним пост полностью, чтобы не скачивать все заного, если что-то потом \"всплывет\".\n",
    "* Просмотры появились в постах не так давно, в старых их просто не будет. Предусмотрим это в коде.\n",
    "* Вложений тоже может не быть, поэтому будем с ними аккуратнее."
   ]
  },
  {
   "cell_type": "code",
   "execution_count": 21,
   "metadata": {},
   "outputs": [],
   "source": [
    "import datetime\n",
    "import pandas as pd"
   ]
  },
  {
   "cell_type": "code",
   "execution_count": 22,
   "metadata": {},
   "outputs": [
    {
     "name": "stderr",
     "output_type": "stream",
     "text": [
      " 27%|██▋       | 67/244 [01:47<05:13,  1.77s/it]"
     ]
    },
    {
     "name": "stdout",
     "output_type": "stream",
     "text": [
      "Error: No views in post\n",
      "(6777, 9)\n"
     ]
    },
    {
     "data": {
      "text/html": [
       "<div>\n",
       "<style scoped>\n",
       "    .dataframe tbody tr th:only-of-type {\n",
       "        vertical-align: middle;\n",
       "    }\n",
       "\n",
       "    .dataframe tbody tr th {\n",
       "        vertical-align: top;\n",
       "    }\n",
       "\n",
       "    .dataframe thead th {\n",
       "        text-align: right;\n",
       "    }\n",
       "</style>\n",
       "<table border=\"1\" class=\"dataframe\">\n",
       "  <thead>\n",
       "    <tr style=\"text-align: right;\">\n",
       "      <th></th>\n",
       "      <th>text</th>\n",
       "      <th>views</th>\n",
       "      <th>likes</th>\n",
       "      <th>comments</th>\n",
       "      <th>is_ad</th>\n",
       "      <th>attachments</th>\n",
       "      <th>is_repost</th>\n",
       "      <th>time</th>\n",
       "      <th>raw</th>\n",
       "    </tr>\n",
       "  </thead>\n",
       "  <tbody>\n",
       "    <tr>\n",
       "      <th>1653786</th>\n",
       "      <td>Шарите в Java? Есть отличный шанс это продемон...</td>\n",
       "      <td>90955</td>\n",
       "      <td>416</td>\n",
       "      <td>156</td>\n",
       "      <td>0</td>\n",
       "      <td>[{'type': 'photo', 'photo': {'id': 457676504, ...</td>\n",
       "      <td>False</td>\n",
       "      <td>1581689820</td>\n",
       "      <td>{'id': 1653786, 'from_id': -30666517, 'owner_i...</td>\n",
       "    </tr>\n",
       "    <tr>\n",
       "      <th>1655188</th>\n",
       "      <td>Генерация случайных чисел — задача не из прост...</td>\n",
       "      <td>8108</td>\n",
       "      <td>51</td>\n",
       "      <td>11</td>\n",
       "      <td>0</td>\n",
       "      <td>[{'type': 'video', 'video': {'access_key': '0e...</td>\n",
       "      <td>False</td>\n",
       "      <td>1582476180</td>\n",
       "      <td>{'id': 1655188, 'from_id': -30666517, 'owner_i...</td>\n",
       "    </tr>\n",
       "    <tr>\n",
       "      <th>1655157</th>\n",
       "      <td>Git pull и git fetch — в чём разница?\\n\\nЧитай...</td>\n",
       "      <td>27263</td>\n",
       "      <td>126</td>\n",
       "      <td>16</td>\n",
       "      <td>0</td>\n",
       "      <td>[{'type': 'photo', 'photo': {'id': 457676335, ...</td>\n",
       "      <td>False</td>\n",
       "      <td>1582456560</td>\n",
       "      <td>{'id': 1655157, 'from_id': -30666517, 'owner_i...</td>\n",
       "    </tr>\n",
       "    <tr>\n",
       "      <th>1655094</th>\n",
       "      <td>Начните своё утро с годного музыкального дипфе...</td>\n",
       "      <td>43855</td>\n",
       "      <td>165</td>\n",
       "      <td>20</td>\n",
       "      <td>0</td>\n",
       "      <td>[{'type': 'video', 'video': {'access_key': '68...</td>\n",
       "      <td>False</td>\n",
       "      <td>1582438440</td>\n",
       "      <td>{'id': 1655094, 'from_id': -30666517, 'owner_i...</td>\n",
       "    </tr>\n",
       "    <tr>\n",
       "      <th>1655065</th>\n",
       "      <td>В обучении программированию, как и в любом дру...</td>\n",
       "      <td>32126</td>\n",
       "      <td>166</td>\n",
       "      <td>7</td>\n",
       "      <td>0</td>\n",
       "      <td>[{'type': 'link', 'link': {'url': 'https://tpr...</td>\n",
       "      <td>False</td>\n",
       "      <td>1582385580</td>\n",
       "      <td>{'id': 1655065, 'from_id': -30666517, 'owner_i...</td>\n",
       "    </tr>\n",
       "  </tbody>\n",
       "</table>\n",
       "</div>"
      ],
      "text/plain": [
       "                                                      text  views likes  \\\n",
       "1653786  Шарите в Java? Есть отличный шанс это продемон...  90955   416   \n",
       "1655188  Генерация случайных чисел — задача не из прост...   8108    51   \n",
       "1655157  Git pull и git fetch — в чём разница?\\n\\nЧитай...  27263   126   \n",
       "1655094  Начните своё утро с годного музыкального дипфе...  43855   165   \n",
       "1655065  В обучении программированию, как и в любом дру...  32126   166   \n",
       "\n",
       "        comments is_ad                                        attachments  \\\n",
       "1653786      156     0  [{'type': 'photo', 'photo': {'id': 457676504, ...   \n",
       "1655188       11     0  [{'type': 'video', 'video': {'access_key': '0e...   \n",
       "1655157       16     0  [{'type': 'photo', 'photo': {'id': 457676335, ...   \n",
       "1655094       20     0  [{'type': 'video', 'video': {'access_key': '68...   \n",
       "1655065        7     0  [{'type': 'link', 'link': {'url': 'https://tpr...   \n",
       "\n",
       "        is_repost        time  \\\n",
       "1653786     False  1581689820   \n",
       "1655188     False  1582476180   \n",
       "1655157     False  1582456560   \n",
       "1655094     False  1582438440   \n",
       "1655065     False  1582385580   \n",
       "\n",
       "                                                       raw  \n",
       "1653786  {'id': 1653786, 'from_id': -30666517, 'owner_i...  \n",
       "1655188  {'id': 1655188, 'from_id': -30666517, 'owner_i...  \n",
       "1655157  {'id': 1655157, 'from_id': -30666517, 'owner_i...  \n",
       "1655094  {'id': 1655094, 'from_id': -30666517, 'owner_i...  \n",
       "1655065  {'id': 1655065, 'from_id': -30666517, 'owner_i...  "
      ]
     },
     "execution_count": 22,
     "metadata": {},
     "output_type": "execute_result"
    }
   ],
   "source": [
    "import vk\n",
    "from tqdm import tqdm\n",
    "\n",
    "session = vk.Session(access_token=\"38479e4a81d854219057927293934ed4d12b1c91afb966101385de82fc3d24310c0d5a039d4a907764504\")\n",
    "api = vk.API(session)\n",
    "\n",
    "columns = ['text', 'views', 'likes', 'comments', 'is_ad', 'attachments', 'is_repost', 'time', 'raw']\n",
    "df = pd.DataFrame(columns=columns)\n",
    "\n",
    "result = api.wall.get(domain='tproger', count=1, v=5.103)\n",
    "count = result['count']\n",
    "\n",
    "for offset in tqdm(range(0, count, 100), position=0, leave=True):\n",
    "    try:\n",
    "        result = api.wall.get(domain='tproger', count=100, offset=offset, v=5.103)\n",
    "        for post in result['items']:\n",
    "            if \"views\" not in post:\n",
    "                raise Exception(\"No views in post\")\n",
    "            \"\"\"\n",
    "            print('--- ' * 10)\n",
    "            print(\"Пост №:\", post['id'])\n",
    "            print(\"Размер текста:\", len(post['text']))\n",
    "            print(\"Просмотры:\", post['views']['count'])\n",
    "            print(\"Лайки:\", post['likes']['count'])\n",
    "            print(\"Коменты:\", post['comments']['count'])\n",
    "            print(\"Реклама?\", post['marked_as_ads'])\n",
    "            print(\"Число вложений:\", len(post['attachments']))\n",
    "            print(\"Репост?\", post.get('copy_history', None) != None)\n",
    "            print(\"Время публикации:\", post['date'])\n",
    "            \"\"\"\n",
    "            attachments = post.get('attachments', [])\n",
    "\n",
    "            df.loc[post['id']] = [\n",
    "                post['text'],  post['views']['count'], post['likes']['count'], post['comments']['count'],\n",
    "                post['marked_as_ads'], attachments, post.get('copy_history', None) != None, \n",
    "                post['date'], post\n",
    "            ]\n",
    "    except Exception as e:\n",
    "        print(\"Error:\", e)\n",
    "        break\n",
    "        \n",
    "\n",
    "\n",
    "print(df.shape)\n",
    "df.head()\n"
   ]
  },
  {
   "cell_type": "markdown",
   "metadata": {},
   "source": [
    "#### Смотрим на данные и правим типы"
   ]
  },
  {
   "cell_type": "markdown",
   "metadata": {},
   "source": [
    "Итак, мы скачали почти 7000 постов. Посмотрим на типы данных колонок."
   ]
  },
  {
   "cell_type": "code",
   "execution_count": null,
   "metadata": {},
   "outputs": [],
   "source": [
    "df = pd.read_csv(\"csv/tipical_proger.csv\", index_col=0)"
   ]
  },
  {
   "cell_type": "code",
   "execution_count": 23,
   "metadata": {},
   "outputs": [
    {
     "name": "stdout",
     "output_type": "stream",
     "text": [
      "text: object, 6777\n",
      "views: object, 6777\n",
      "likes: object, 6777\n",
      "comments: object, 6777\n",
      "is_ad: object, 6777\n",
      "attachments: object, 6777\n",
      "is_repost: object, 6777\n",
      "time: object, 6777\n",
      "raw: object, 6777\n"
     ]
    }
   ],
   "source": [
    "for column in columns:\n",
    "    print(f'{column}: {df[column].dtype}, {len(df[column])}')"
   ]
  },
  {
   "cell_type": "markdown",
   "metadata": {},
   "source": [
    "1) Во всех колонках одинаковое число записей, пропущенных значений нет. Иначе мы смогли бы использовать `dropna` или `fillna`, чтобы их заполнить.\n",
    "\n",
    "2) У все колонок тип object (категориальные данные), хотя по факту в некоторых числа. Попробуем преобразовать тип."
   ]
  },
  {
   "cell_type": "code",
   "execution_count": 24,
   "metadata": {},
   "outputs": [],
   "source": [
    "num_columns = ['views', 'likes', 'comments', 'is_ad', 'is_repost', 'time']\n",
    "\n",
    "for column in num_columns:\n",
    "    df[column] = df[column].astype(int)"
   ]
  },
  {
   "cell_type": "code",
   "execution_count": 25,
   "metadata": {},
   "outputs": [
    {
     "name": "stdout",
     "output_type": "stream",
     "text": [
      "text: object, 6777\n",
      "views: int64, 6777\n",
      "likes: int64, 6777\n",
      "comments: int64, 6777\n",
      "is_ad: int64, 6777\n",
      "attachments: object, 6777\n",
      "is_repost: int64, 6777\n",
      "time: int64, 6777\n",
      "raw: object, 6777\n"
     ]
    }
   ],
   "source": [
    "for column in columns:\n",
    "    print(f'{column}: {df[column].dtype}, {len(df[column])}')"
   ]
  },
  {
   "cell_type": "markdown",
   "metadata": {},
   "source": [
    "Отлично, теперь в колонках числа, можем на них посмотреть."
   ]
  },
  {
   "cell_type": "code",
   "execution_count": 26,
   "metadata": {},
   "outputs": [
    {
     "data": {
      "text/html": [
       "<div>\n",
       "<style scoped>\n",
       "    .dataframe tbody tr th:only-of-type {\n",
       "        vertical-align: middle;\n",
       "    }\n",
       "\n",
       "    .dataframe tbody tr th {\n",
       "        vertical-align: top;\n",
       "    }\n",
       "\n",
       "    .dataframe thead th {\n",
       "        text-align: right;\n",
       "    }\n",
       "</style>\n",
       "<table border=\"1\" class=\"dataframe\">\n",
       "  <thead>\n",
       "    <tr style=\"text-align: right;\">\n",
       "      <th></th>\n",
       "      <th>views</th>\n",
       "      <th>likes</th>\n",
       "      <th>comments</th>\n",
       "      <th>is_ad</th>\n",
       "      <th>is_repost</th>\n",
       "      <th>time</th>\n",
       "    </tr>\n",
       "  </thead>\n",
       "  <tbody>\n",
       "    <tr>\n",
       "      <th>count</th>\n",
       "      <td>6777.000000</td>\n",
       "      <td>6777.000000</td>\n",
       "      <td>6777.000000</td>\n",
       "      <td>6777.000000</td>\n",
       "      <td>6777.000000</td>\n",
       "      <td>6.777000e+03</td>\n",
       "    </tr>\n",
       "    <tr>\n",
       "      <th>mean</th>\n",
       "      <td>45118.466135</td>\n",
       "      <td>263.589641</td>\n",
       "      <td>23.133392</td>\n",
       "      <td>0.115243</td>\n",
       "      <td>0.039988</td>\n",
       "      <td>1.527585e+09</td>\n",
       "    </tr>\n",
       "    <tr>\n",
       "      <th>std</th>\n",
       "      <td>18686.296457</td>\n",
       "      <td>307.331127</td>\n",
       "      <td>69.118073</td>\n",
       "      <td>0.319338</td>\n",
       "      <td>0.195946</td>\n",
       "      <td>2.927529e+07</td>\n",
       "    </tr>\n",
       "    <tr>\n",
       "      <th>min</th>\n",
       "      <td>8108.000000</td>\n",
       "      <td>2.000000</td>\n",
       "      <td>0.000000</td>\n",
       "      <td>0.000000</td>\n",
       "      <td>0.000000</td>\n",
       "      <td>1.483218e+09</td>\n",
       "    </tr>\n",
       "    <tr>\n",
       "      <th>25%</th>\n",
       "      <td>34219.000000</td>\n",
       "      <td>66.000000</td>\n",
       "      <td>5.000000</td>\n",
       "      <td>0.000000</td>\n",
       "      <td>0.000000</td>\n",
       "      <td>1.500756e+09</td>\n",
       "    </tr>\n",
       "    <tr>\n",
       "      <th>50%</th>\n",
       "      <td>41679.000000</td>\n",
       "      <td>157.000000</td>\n",
       "      <td>13.000000</td>\n",
       "      <td>0.000000</td>\n",
       "      <td>0.000000</td>\n",
       "      <td>1.528286e+09</td>\n",
       "    </tr>\n",
       "    <tr>\n",
       "      <th>75%</th>\n",
       "      <td>49973.000000</td>\n",
       "      <td>343.000000</td>\n",
       "      <td>26.000000</td>\n",
       "      <td>0.000000</td>\n",
       "      <td>0.000000</td>\n",
       "      <td>1.552127e+09</td>\n",
       "    </tr>\n",
       "    <tr>\n",
       "      <th>max</th>\n",
       "      <td>287266.000000</td>\n",
       "      <td>5044.000000</td>\n",
       "      <td>4558.000000</td>\n",
       "      <td>1.000000</td>\n",
       "      <td>1.000000</td>\n",
       "      <td>1.582476e+09</td>\n",
       "    </tr>\n",
       "  </tbody>\n",
       "</table>\n",
       "</div>"
      ],
      "text/plain": [
       "               views        likes     comments        is_ad    is_repost  \\\n",
       "count    6777.000000  6777.000000  6777.000000  6777.000000  6777.000000   \n",
       "mean    45118.466135   263.589641    23.133392     0.115243     0.039988   \n",
       "std     18686.296457   307.331127    69.118073     0.319338     0.195946   \n",
       "min      8108.000000     2.000000     0.000000     0.000000     0.000000   \n",
       "25%     34219.000000    66.000000     5.000000     0.000000     0.000000   \n",
       "50%     41679.000000   157.000000    13.000000     0.000000     0.000000   \n",
       "75%     49973.000000   343.000000    26.000000     0.000000     0.000000   \n",
       "max    287266.000000  5044.000000  4558.000000     1.000000     1.000000   \n",
       "\n",
       "               time  \n",
       "count  6.777000e+03  \n",
       "mean   1.527585e+09  \n",
       "std    2.927529e+07  \n",
       "min    1.483218e+09  \n",
       "25%    1.500756e+09  \n",
       "50%    1.528286e+09  \n",
       "75%    1.552127e+09  \n",
       "max    1.582476e+09  "
      ]
     },
     "execution_count": 26,
     "metadata": {},
     "output_type": "execute_result"
    }
   ],
   "source": [
    "df.describe()"
   ]
  },
  {
   "cell_type": "code",
   "execution_count": 27,
   "metadata": {},
   "outputs": [
    {
     "ename": "ModuleNotFoundError",
     "evalue": "No module named 'matplotlib'",
     "output_type": "error",
     "traceback": [
      "\u001b[0;31m---------------------------------------------------------------------------\u001b[0m",
      "\u001b[0;31mModuleNotFoundError\u001b[0m                       Traceback (most recent call last)",
      "\u001b[0;32m<ipython-input-27-3a45f7bbe518>\u001b[0m in \u001b[0;36m<module>\u001b[0;34m\u001b[0m\n\u001b[0;32m----> 1\u001b[0;31m \u001b[0;32mimport\u001b[0m \u001b[0mmatplotlib\u001b[0m\u001b[0;34m.\u001b[0m\u001b[0mpyplot\u001b[0m \u001b[0;32mas\u001b[0m \u001b[0mplt\u001b[0m\u001b[0;34m\u001b[0m\u001b[0;34m\u001b[0m\u001b[0m\n\u001b[0m\u001b[1;32m      2\u001b[0m \u001b[0mget_ipython\u001b[0m\u001b[0;34m(\u001b[0m\u001b[0;34m)\u001b[0m\u001b[0;34m.\u001b[0m\u001b[0mrun_line_magic\u001b[0m\u001b[0;34m(\u001b[0m\u001b[0;34m'matplotlib'\u001b[0m\u001b[0;34m,\u001b[0m \u001b[0;34m'inline'\u001b[0m\u001b[0;34m)\u001b[0m\u001b[0;34m\u001b[0m\u001b[0;34m\u001b[0m\u001b[0m\n\u001b[1;32m      3\u001b[0m \u001b[0;34m\u001b[0m\u001b[0m\n\u001b[1;32m      4\u001b[0m \u001b[0mnum_columns\u001b[0m \u001b[0;34m=\u001b[0m \u001b[0;34m[\u001b[0m\u001b[0;34m'views'\u001b[0m\u001b[0;34m,\u001b[0m \u001b[0;34m'likes'\u001b[0m\u001b[0;34m,\u001b[0m \u001b[0;34m'comments'\u001b[0m\u001b[0;34m,\u001b[0m \u001b[0;34m'is_ad'\u001b[0m\u001b[0;34m,\u001b[0m \u001b[0;34m'is_repost'\u001b[0m\u001b[0;34m,\u001b[0m \u001b[0;34m'time'\u001b[0m\u001b[0;34m]\u001b[0m\u001b[0;34m\u001b[0m\u001b[0;34m\u001b[0m\u001b[0m\n\u001b[1;32m      5\u001b[0m \u001b[0;34m\u001b[0m\u001b[0m\n",
      "\u001b[0;31mModuleNotFoundError\u001b[0m: No module named 'matplotlib'"
     ]
    }
   ],
   "source": [
    "import matplotlib.pyplot as plt\n",
    "%matplotlib inline\n",
    "\n",
    "num_columns = ['views', 'likes', 'comments', 'is_ad', 'is_repost', 'time']\n",
    "\n",
    "for column in num_columns:\n",
    "    print(column)\n",
    "    df[column].hist()\n",
    "    plt.show()"
   ]
  },
  {
   "cell_type": "markdown",
   "metadata": {},
   "source": [
    "В данных выше мы можем увидеть интересные моменты: есть посты с аномально большим числом лайков и комментов. Можно на них посмотреть."
   ]
  },
  {
   "cell_type": "code",
   "execution_count": 28,
   "metadata": {},
   "outputs": [
    {
     "data": {
      "text/html": [
       "<div>\n",
       "<style scoped>\n",
       "    .dataframe tbody tr th:only-of-type {\n",
       "        vertical-align: middle;\n",
       "    }\n",
       "\n",
       "    .dataframe tbody tr th {\n",
       "        vertical-align: top;\n",
       "    }\n",
       "\n",
       "    .dataframe thead th {\n",
       "        text-align: right;\n",
       "    }\n",
       "</style>\n",
       "<table border=\"1\" class=\"dataframe\">\n",
       "  <thead>\n",
       "    <tr style=\"text-align: right;\">\n",
       "      <th></th>\n",
       "      <th>text</th>\n",
       "      <th>views</th>\n",
       "      <th>likes</th>\n",
       "      <th>comments</th>\n",
       "      <th>is_ad</th>\n",
       "      <th>attachments</th>\n",
       "      <th>is_repost</th>\n",
       "      <th>time</th>\n",
       "      <th>raw</th>\n",
       "    </tr>\n",
       "  </thead>\n",
       "  <tbody>\n",
       "    <tr>\n",
       "      <th>1587910</th>\n",
       "      <td>В приложении «ВКонтакте» для Android появилась...</td>\n",
       "      <td>122610</td>\n",
       "      <td>312</td>\n",
       "      <td>4558</td>\n",
       "      <td>0</td>\n",
       "      <td>[{'type': 'photo', 'photo': {'id': 456322633, ...</td>\n",
       "      <td>0</td>\n",
       "      <td>1555400095</td>\n",
       "      <td>{'id': 1587910, 'from_id': -30666517, 'owner_i...</td>\n",
       "    </tr>\n",
       "    <tr>\n",
       "      <th>1611436</th>\n",
       "      <td>Давайте устроим пятничный интерактив.\\n\\nВ ком...</td>\n",
       "      <td>83106</td>\n",
       "      <td>119</td>\n",
       "      <td>1936</td>\n",
       "      <td>0</td>\n",
       "      <td>[{'type': 'photo', 'photo': {'id': 457405135, ...</td>\n",
       "      <td>0</td>\n",
       "      <td>1563542940</td>\n",
       "      <td>{'id': 1611436, 'from_id': -30666517, 'owner_i...</td>\n",
       "    </tr>\n",
       "    <tr>\n",
       "      <th>1579542</th>\n",
       "      <td>Сегодня в России прошли митинги против изоляци...</td>\n",
       "      <td>79485</td>\n",
       "      <td>492</td>\n",
       "      <td>596</td>\n",
       "      <td>0</td>\n",
       "      <td>[{'type': 'photo', 'photo': {'id': 456277864, ...</td>\n",
       "      <td>0</td>\n",
       "      <td>1552245134</td>\n",
       "      <td>{'id': 1579542, 'from_id': -30666517, 'owner_i...</td>\n",
       "    </tr>\n",
       "    <tr>\n",
       "      <th>1624064</th>\n",
       "      <td>Ностальгируем, не стесняемся</td>\n",
       "      <td>59647</td>\n",
       "      <td>180</td>\n",
       "      <td>576</td>\n",
       "      <td>0</td>\n",
       "      <td>[{'type': 'photo', 'photo': {'id': 457486163, ...</td>\n",
       "      <td>0</td>\n",
       "      <td>1568370266</td>\n",
       "      <td>{'id': 1624064, 'from_id': -30666517, 'owner_i...</td>\n",
       "    </tr>\n",
       "    <tr>\n",
       "      <th>1645176</th>\n",
       "      <td>Что вас ждёт в Новом году? Предлагаем вам загл...</td>\n",
       "      <td>43820</td>\n",
       "      <td>37</td>\n",
       "      <td>538</td>\n",
       "      <td>0</td>\n",
       "      <td>[{'type': 'photo', 'photo': {'id': 457635228, ...</td>\n",
       "      <td>0</td>\n",
       "      <td>1577714813</td>\n",
       "      <td>{'id': 1645176, 'from_id': -30666517, 'owner_i...</td>\n",
       "    </tr>\n",
       "  </tbody>\n",
       "</table>\n",
       "</div>"
      ],
      "text/plain": [
       "                                                      text   views  likes  \\\n",
       "1587910  В приложении «ВКонтакте» для Android появилась...  122610    312   \n",
       "1611436  Давайте устроим пятничный интерактив.\\n\\nВ ком...   83106    119   \n",
       "1579542  Сегодня в России прошли митинги против изоляци...   79485    492   \n",
       "1624064                       Ностальгируем, не стесняемся   59647    180   \n",
       "1645176  Что вас ждёт в Новом году? Предлагаем вам загл...   43820     37   \n",
       "\n",
       "         comments  is_ad                                        attachments  \\\n",
       "1587910      4558      0  [{'type': 'photo', 'photo': {'id': 456322633, ...   \n",
       "1611436      1936      0  [{'type': 'photo', 'photo': {'id': 457405135, ...   \n",
       "1579542       596      0  [{'type': 'photo', 'photo': {'id': 456277864, ...   \n",
       "1624064       576      0  [{'type': 'photo', 'photo': {'id': 457486163, ...   \n",
       "1645176       538      0  [{'type': 'photo', 'photo': {'id': 457635228, ...   \n",
       "\n",
       "         is_repost        time  \\\n",
       "1587910          0  1555400095   \n",
       "1611436          0  1563542940   \n",
       "1579542          0  1552245134   \n",
       "1624064          0  1568370266   \n",
       "1645176          0  1577714813   \n",
       "\n",
       "                                                       raw  \n",
       "1587910  {'id': 1587910, 'from_id': -30666517, 'owner_i...  \n",
       "1611436  {'id': 1611436, 'from_id': -30666517, 'owner_i...  \n",
       "1579542  {'id': 1579542, 'from_id': -30666517, 'owner_i...  \n",
       "1624064  {'id': 1624064, 'from_id': -30666517, 'owner_i...  \n",
       "1645176  {'id': 1645176, 'from_id': -30666517, 'owner_i...  "
      ]
     },
     "execution_count": 28,
     "metadata": {},
     "output_type": "execute_result"
    }
   ],
   "source": [
    "df.sort_values('comments', ascending=False)[:5]"
   ]
  },
  {
   "cell_type": "code",
   "execution_count": 29,
   "metadata": {},
   "outputs": [
    {
     "data": {
      "text/html": [
       "<div>\n",
       "<style scoped>\n",
       "    .dataframe tbody tr th:only-of-type {\n",
       "        vertical-align: middle;\n",
       "    }\n",
       "\n",
       "    .dataframe tbody tr th {\n",
       "        vertical-align: top;\n",
       "    }\n",
       "\n",
       "    .dataframe thead th {\n",
       "        text-align: right;\n",
       "    }\n",
       "</style>\n",
       "<table border=\"1\" class=\"dataframe\">\n",
       "  <thead>\n",
       "    <tr style=\"text-align: right;\">\n",
       "      <th></th>\n",
       "      <th>text</th>\n",
       "      <th>views</th>\n",
       "      <th>likes</th>\n",
       "      <th>comments</th>\n",
       "      <th>is_ad</th>\n",
       "      <th>attachments</th>\n",
       "      <th>is_repost</th>\n",
       "      <th>time</th>\n",
       "      <th>raw</th>\n",
       "    </tr>\n",
       "  </thead>\n",
       "  <tbody>\n",
       "    <tr>\n",
       "      <th>1566145</th>\n",
       "      <td></td>\n",
       "      <td>212396</td>\n",
       "      <td>5044</td>\n",
       "      <td>144</td>\n",
       "      <td>0</td>\n",
       "      <td>[{'type': 'photo', 'photo': {'id': 456272768, ...</td>\n",
       "      <td>0</td>\n",
       "      <td>1546290005</td>\n",
       "      <td>{'id': 1566145, 'from_id': -30666517, 'owner_i...</td>\n",
       "    </tr>\n",
       "    <tr>\n",
       "      <th>1495237</th>\n",
       "      <td>Видеокурс «Основы программирования». \\n \\nРусс...</td>\n",
       "      <td>64537</td>\n",
       "      <td>4359</td>\n",
       "      <td>11</td>\n",
       "      <td>0</td>\n",
       "      <td>[{'type': 'video', 'video': {'access_key': '76...</td>\n",
       "      <td>0</td>\n",
       "      <td>1500307628</td>\n",
       "      <td>{'id': 1495237, 'from_id': -30666517, 'owner_i...</td>\n",
       "    </tr>\n",
       "    <tr>\n",
       "      <th>1452322</th>\n",
       "      <td>Year++, программисты!</td>\n",
       "      <td>135397</td>\n",
       "      <td>2972</td>\n",
       "      <td>127</td>\n",
       "      <td>0</td>\n",
       "      <td>[{'type': 'photo', 'photo': {'id': 456240507, ...</td>\n",
       "      <td>0</td>\n",
       "      <td>1483218155</td>\n",
       "      <td>{'id': 1452322, 'from_id': -30666517, 'owner_i...</td>\n",
       "    </tr>\n",
       "    <tr>\n",
       "      <th>1483520</th>\n",
       "      <td>Подготовили для вас перевод подробного руковод...</td>\n",
       "      <td>96807</td>\n",
       "      <td>2925</td>\n",
       "      <td>17</td>\n",
       "      <td>0</td>\n",
       "      <td>[{'type': 'link', 'link': {'url': 'https://tpr...</td>\n",
       "      <td>0</td>\n",
       "      <td>1493226250</td>\n",
       "      <td>{'id': 1483520, 'from_id': -30666517, 'owner_i...</td>\n",
       "    </tr>\n",
       "    <tr>\n",
       "      <th>1520134</th>\n",
       "      <td>Привет. Просто анимированная форма логина, зац...</td>\n",
       "      <td>76543</td>\n",
       "      <td>2661</td>\n",
       "      <td>66</td>\n",
       "      <td>0</td>\n",
       "      <td>[{'type': 'doc', 'doc': {'id': 460704137, 'own...</td>\n",
       "      <td>0</td>\n",
       "      <td>1519661280</td>\n",
       "      <td>{'id': 1520134, 'from_id': -30666517, 'owner_i...</td>\n",
       "    </tr>\n",
       "  </tbody>\n",
       "</table>\n",
       "</div>"
      ],
      "text/plain": [
       "                                                      text   views  likes  \\\n",
       "1566145                                                     212396   5044   \n",
       "1495237  Видеокурс «Основы программирования». \\n \\nРусс...   64537   4359   \n",
       "1452322                              Year++, программисты!  135397   2972   \n",
       "1483520  Подготовили для вас перевод подробного руковод...   96807   2925   \n",
       "1520134  Привет. Просто анимированная форма логина, зац...   76543   2661   \n",
       "\n",
       "         comments  is_ad                                        attachments  \\\n",
       "1566145       144      0  [{'type': 'photo', 'photo': {'id': 456272768, ...   \n",
       "1495237        11      0  [{'type': 'video', 'video': {'access_key': '76...   \n",
       "1452322       127      0  [{'type': 'photo', 'photo': {'id': 456240507, ...   \n",
       "1483520        17      0  [{'type': 'link', 'link': {'url': 'https://tpr...   \n",
       "1520134        66      0  [{'type': 'doc', 'doc': {'id': 460704137, 'own...   \n",
       "\n",
       "         is_repost        time  \\\n",
       "1566145          0  1546290005   \n",
       "1495237          0  1500307628   \n",
       "1452322          0  1483218155   \n",
       "1483520          0  1493226250   \n",
       "1520134          0  1519661280   \n",
       "\n",
       "                                                       raw  \n",
       "1566145  {'id': 1566145, 'from_id': -30666517, 'owner_i...  \n",
       "1495237  {'id': 1495237, 'from_id': -30666517, 'owner_i...  \n",
       "1452322  {'id': 1452322, 'from_id': -30666517, 'owner_i...  \n",
       "1483520  {'id': 1483520, 'from_id': -30666517, 'owner_i...  \n",
       "1520134  {'id': 1520134, 'from_id': -30666517, 'owner_i...  "
      ]
     },
     "execution_count": 29,
     "metadata": {},
     "output_type": "execute_result"
    }
   ],
   "source": [
    "df.sort_values('likes', ascending=False)[:5]"
   ]
  },
  {
   "cell_type": "markdown",
   "metadata": {},
   "source": [
    "#### Feature Engineering и предварительная обработка"
   ]
  },
  {
   "cell_type": "markdown",
   "metadata": {},
   "source": [
    "Визуально мы заметили, что некоторые посты отмечены хэш-тегом \"\\#партнерский\". Попробуем найти такие посты и посмотреть, отмечены ли они как реклама.\n",
    "\n",
    "Для это применим функцию к столбцу text и получим новый столбец."
   ]
  },
  {
   "cell_type": "code",
   "execution_count": 30,
   "metadata": {},
   "outputs": [],
   "source": [
    "\n",
    "\n",
    "def is_partner(text):\n",
    "    if \"#партнерский\" in text.replace('ё', 'е').lower():\n",
    "        return 1\n",
    "    else:\n",
    "        return 0\n",
    "    \n",
    "df['is_partner'] = df['text'].apply(is_partner)"
   ]
  },
  {
   "cell_type": "code",
   "execution_count": 31,
   "metadata": {},
   "outputs": [
    {
     "ename": "ImportError",
     "evalue": "matplotlib is required for plotting when the default backend \"matplotlib\" is selected.",
     "output_type": "error",
     "traceback": [
      "\u001b[0;31m---------------------------------------------------------------------------\u001b[0m",
      "\u001b[0;31mImportError\u001b[0m                               Traceback (most recent call last)",
      "\u001b[0;32m<ipython-input-31-0610ad3bb422>\u001b[0m in \u001b[0;36m<module>\u001b[0;34m\u001b[0m\n\u001b[0;32m----> 1\u001b[0;31m \u001b[0mdf\u001b[0m\u001b[0;34m[\u001b[0m\u001b[0;34m'is_partner'\u001b[0m\u001b[0;34m]\u001b[0m\u001b[0;34m.\u001b[0m\u001b[0mhist\u001b[0m\u001b[0;34m(\u001b[0m\u001b[0;34m)\u001b[0m\u001b[0;34m\u001b[0m\u001b[0;34m\u001b[0m\u001b[0m\n\u001b[0m\u001b[1;32m      2\u001b[0m \u001b[0mplt\u001b[0m\u001b[0;34m.\u001b[0m\u001b[0mshow\u001b[0m\u001b[0;34m(\u001b[0m\u001b[0;34m)\u001b[0m\u001b[0;34m\u001b[0m\u001b[0;34m\u001b[0m\u001b[0m\n\u001b[1;32m      3\u001b[0m \u001b[0mdf\u001b[0m\u001b[0;34m[\u001b[0m\u001b[0;34m'is_ad'\u001b[0m\u001b[0;34m]\u001b[0m\u001b[0;34m.\u001b[0m\u001b[0mhist\u001b[0m\u001b[0;34m(\u001b[0m\u001b[0;34m)\u001b[0m\u001b[0;34m\u001b[0m\u001b[0;34m\u001b[0m\u001b[0m\n\u001b[1;32m      4\u001b[0m \u001b[0mplt\u001b[0m\u001b[0;34m.\u001b[0m\u001b[0mshow\u001b[0m\u001b[0;34m(\u001b[0m\u001b[0;34m)\u001b[0m\u001b[0;34m\u001b[0m\u001b[0;34m\u001b[0m\u001b[0m\n",
      "\u001b[0;32m/usr/local/lib/python3.6/dist-packages/pandas/plotting/_core.py\u001b[0m in \u001b[0;36mhist_series\u001b[0;34m(self, by, ax, grid, xlabelsize, xrot, ylabelsize, yrot, figsize, bins, backend, **kwargs)\u001b[0m\n\u001b[1;32m     71\u001b[0m     \u001b[0mmatplotlib\u001b[0m\u001b[0;34m.\u001b[0m\u001b[0maxes\u001b[0m\u001b[0;34m.\u001b[0m\u001b[0mAxes\u001b[0m\u001b[0;34m.\u001b[0m\u001b[0mhist\u001b[0m \u001b[0;34m:\u001b[0m \u001b[0mPlot\u001b[0m \u001b[0ma\u001b[0m \u001b[0mhistogram\u001b[0m \u001b[0musing\u001b[0m \u001b[0mmatplotlib\u001b[0m\u001b[0;34m.\u001b[0m\u001b[0;34m\u001b[0m\u001b[0;34m\u001b[0m\u001b[0m\n\u001b[1;32m     72\u001b[0m     \"\"\"\n\u001b[0;32m---> 73\u001b[0;31m     \u001b[0mplot_backend\u001b[0m \u001b[0;34m=\u001b[0m \u001b[0m_get_plot_backend\u001b[0m\u001b[0;34m(\u001b[0m\u001b[0mbackend\u001b[0m\u001b[0;34m)\u001b[0m\u001b[0;34m\u001b[0m\u001b[0;34m\u001b[0m\u001b[0m\n\u001b[0m\u001b[1;32m     74\u001b[0m     return plot_backend.hist_series(\n\u001b[1;32m     75\u001b[0m         \u001b[0mself\u001b[0m\u001b[0;34m,\u001b[0m\u001b[0;34m\u001b[0m\u001b[0;34m\u001b[0m\u001b[0m\n",
      "\u001b[0;32m/usr/local/lib/python3.6/dist-packages/pandas/plotting/_core.py\u001b[0m in \u001b[0;36m_get_plot_backend\u001b[0;34m(backend)\u001b[0m\n\u001b[1;32m   1667\u001b[0m                 \u001b[0;34m\"matplotlib is required for plotting when the \"\u001b[0m\u001b[0;34m\u001b[0m\u001b[0;34m\u001b[0m\u001b[0m\n\u001b[1;32m   1668\u001b[0m                 \u001b[0;34m'default backend \"matplotlib\" is selected.'\u001b[0m\u001b[0;34m\u001b[0m\u001b[0;34m\u001b[0m\u001b[0m\n\u001b[0;32m-> 1669\u001b[0;31m             ) from None\n\u001b[0m\u001b[1;32m   1670\u001b[0m \u001b[0;34m\u001b[0m\u001b[0m\n\u001b[1;32m   1671\u001b[0m         \u001b[0m_backends\u001b[0m\u001b[0;34m[\u001b[0m\u001b[0;34m\"matplotlib\"\u001b[0m\u001b[0;34m]\u001b[0m \u001b[0;34m=\u001b[0m \u001b[0mmodule\u001b[0m\u001b[0;34m\u001b[0m\u001b[0;34m\u001b[0m\u001b[0m\n",
      "\u001b[0;31mImportError\u001b[0m: matplotlib is required for plotting when the default backend \"matplotlib\" is selected."
     ]
    }
   ],
   "source": [
    "df['is_partner'].hist()\n",
    "plt.show()\n",
    "df['is_ad'].hist()\n",
    "plt.show()"
   ]
  },
  {
   "cell_type": "markdown",
   "metadata": {},
   "source": [
    "Интересно, а все ли посты, отмеченные, как партнерские, помечены, как реклама."
   ]
  },
  {
   "cell_type": "code",
   "execution_count": 32,
   "metadata": {},
   "outputs": [
    {
     "ename": "ImportError",
     "evalue": "matplotlib is required for plotting when the default backend \"matplotlib\" is selected.",
     "output_type": "error",
     "traceback": [
      "\u001b[0;31m---------------------------------------------------------------------------\u001b[0m",
      "\u001b[0;31mImportError\u001b[0m                               Traceback (most recent call last)",
      "\u001b[0;32m<ipython-input-32-a6f000a1bef7>\u001b[0m in \u001b[0;36m<module>\u001b[0;34m\u001b[0m\n\u001b[0;32m----> 1\u001b[0;31m \u001b[0mdf\u001b[0m\u001b[0;34m[\u001b[0m \u001b[0mdf\u001b[0m\u001b[0;34m[\u001b[0m\u001b[0;34m'is_partner'\u001b[0m\u001b[0;34m]\u001b[0m \u001b[0;34m==\u001b[0m \u001b[0;36m1\u001b[0m \u001b[0;34m]\u001b[0m\u001b[0;34m[\u001b[0m\u001b[0;34m'is_ad'\u001b[0m\u001b[0;34m]\u001b[0m\u001b[0;34m.\u001b[0m\u001b[0mhist\u001b[0m\u001b[0;34m(\u001b[0m\u001b[0;34m)\u001b[0m\u001b[0;34m\u001b[0m\u001b[0;34m\u001b[0m\u001b[0m\n\u001b[0m",
      "\u001b[0;32m/usr/local/lib/python3.6/dist-packages/pandas/plotting/_core.py\u001b[0m in \u001b[0;36mhist_series\u001b[0;34m(self, by, ax, grid, xlabelsize, xrot, ylabelsize, yrot, figsize, bins, backend, **kwargs)\u001b[0m\n\u001b[1;32m     71\u001b[0m     \u001b[0mmatplotlib\u001b[0m\u001b[0;34m.\u001b[0m\u001b[0maxes\u001b[0m\u001b[0;34m.\u001b[0m\u001b[0mAxes\u001b[0m\u001b[0;34m.\u001b[0m\u001b[0mhist\u001b[0m \u001b[0;34m:\u001b[0m \u001b[0mPlot\u001b[0m \u001b[0ma\u001b[0m \u001b[0mhistogram\u001b[0m \u001b[0musing\u001b[0m \u001b[0mmatplotlib\u001b[0m\u001b[0;34m.\u001b[0m\u001b[0;34m\u001b[0m\u001b[0;34m\u001b[0m\u001b[0m\n\u001b[1;32m     72\u001b[0m     \"\"\"\n\u001b[0;32m---> 73\u001b[0;31m     \u001b[0mplot_backend\u001b[0m \u001b[0;34m=\u001b[0m \u001b[0m_get_plot_backend\u001b[0m\u001b[0;34m(\u001b[0m\u001b[0mbackend\u001b[0m\u001b[0;34m)\u001b[0m\u001b[0;34m\u001b[0m\u001b[0;34m\u001b[0m\u001b[0m\n\u001b[0m\u001b[1;32m     74\u001b[0m     return plot_backend.hist_series(\n\u001b[1;32m     75\u001b[0m         \u001b[0mself\u001b[0m\u001b[0;34m,\u001b[0m\u001b[0;34m\u001b[0m\u001b[0;34m\u001b[0m\u001b[0m\n",
      "\u001b[0;32m/usr/local/lib/python3.6/dist-packages/pandas/plotting/_core.py\u001b[0m in \u001b[0;36m_get_plot_backend\u001b[0;34m(backend)\u001b[0m\n\u001b[1;32m   1667\u001b[0m                 \u001b[0;34m\"matplotlib is required for plotting when the \"\u001b[0m\u001b[0;34m\u001b[0m\u001b[0;34m\u001b[0m\u001b[0m\n\u001b[1;32m   1668\u001b[0m                 \u001b[0;34m'default backend \"matplotlib\" is selected.'\u001b[0m\u001b[0;34m\u001b[0m\u001b[0;34m\u001b[0m\u001b[0m\n\u001b[0;32m-> 1669\u001b[0;31m             ) from None\n\u001b[0m\u001b[1;32m   1670\u001b[0m \u001b[0;34m\u001b[0m\u001b[0m\n\u001b[1;32m   1671\u001b[0m         \u001b[0m_backends\u001b[0m\u001b[0;34m[\u001b[0m\u001b[0;34m\"matplotlib\"\u001b[0m\u001b[0;34m]\u001b[0m \u001b[0;34m=\u001b[0m \u001b[0mmodule\u001b[0m\u001b[0;34m\u001b[0m\u001b[0;34m\u001b[0m\u001b[0m\n",
      "\u001b[0;31mImportError\u001b[0m: matplotlib is required for plotting when the default backend \"matplotlib\" is selected."
     ]
    }
   ],
   "source": [
    "df[ df['is_partner'] == 1 ]['is_ad'].hist()"
   ]
  },
  {
   "cell_type": "markdown",
   "metadata": {},
   "source": [
    "Оказывается, нет! Выходит, мы только что придумали, как достать новую информацию из уже имеющихся данных. Это называется **feature ingineerring**. Именно в этом и состоит *искусство* машинного обучения.\n",
    "\n",
    "https://habr.com/ru/company/mlclass/blog/248129/\n",
    "\n",
    "Еще у нас есть время публикации. Попробуем достать из него, например, день недели.\n",
    "\n",
    "https://stackoverflow.com/questions/9847213/how-do-i-get-the-day-of-week-given-a-date"
   ]
  },
  {
   "cell_type": "code",
   "execution_count": 33,
   "metadata": {},
   "outputs": [
    {
     "name": "stdout",
     "output_type": "stream",
     "text": [
      "Today: Sunday\n"
     ]
    }
   ],
   "source": [
    "from datetime import date\n",
    "import calendar\n",
    "\n",
    "# test\n",
    "print(\"Today:\", calendar.day_name[datetime.datetime.today().weekday()])\n",
    "\n",
    "\n",
    "def get_weekday(unix_time):\n",
    "    date = datetime.datetime.fromtimestamp(unix_time)\n",
    "    return calendar.day_name[date.weekday()]\n",
    "\n",
    "\n",
    "df['weekday'] = df['time'].apply(get_weekday)   "
   ]
  },
  {
   "cell_type": "code",
   "execution_count": 34,
   "metadata": {},
   "outputs": [
    {
     "ename": "ImportError",
     "evalue": "matplotlib is required for plotting when the default backend \"matplotlib\" is selected.",
     "output_type": "error",
     "traceback": [
      "\u001b[0;31m---------------------------------------------------------------------------\u001b[0m",
      "\u001b[0;31mImportError\u001b[0m                               Traceback (most recent call last)",
      "\u001b[0;32m<ipython-input-34-ce34062ff3dd>\u001b[0m in \u001b[0;36m<module>\u001b[0;34m\u001b[0m\n\u001b[0;32m----> 1\u001b[0;31m \u001b[0mdf\u001b[0m\u001b[0;34m[\u001b[0m\u001b[0;34m'weekday'\u001b[0m\u001b[0;34m]\u001b[0m\u001b[0;34m.\u001b[0m\u001b[0mhist\u001b[0m\u001b[0;34m(\u001b[0m\u001b[0;34m)\u001b[0m\u001b[0;34m\u001b[0m\u001b[0;34m\u001b[0m\u001b[0m\n\u001b[0m",
      "\u001b[0;32m/usr/local/lib/python3.6/dist-packages/pandas/plotting/_core.py\u001b[0m in \u001b[0;36mhist_series\u001b[0;34m(self, by, ax, grid, xlabelsize, xrot, ylabelsize, yrot, figsize, bins, backend, **kwargs)\u001b[0m\n\u001b[1;32m     71\u001b[0m     \u001b[0mmatplotlib\u001b[0m\u001b[0;34m.\u001b[0m\u001b[0maxes\u001b[0m\u001b[0;34m.\u001b[0m\u001b[0mAxes\u001b[0m\u001b[0;34m.\u001b[0m\u001b[0mhist\u001b[0m \u001b[0;34m:\u001b[0m \u001b[0mPlot\u001b[0m \u001b[0ma\u001b[0m \u001b[0mhistogram\u001b[0m \u001b[0musing\u001b[0m \u001b[0mmatplotlib\u001b[0m\u001b[0;34m.\u001b[0m\u001b[0;34m\u001b[0m\u001b[0;34m\u001b[0m\u001b[0m\n\u001b[1;32m     72\u001b[0m     \"\"\"\n\u001b[0;32m---> 73\u001b[0;31m     \u001b[0mplot_backend\u001b[0m \u001b[0;34m=\u001b[0m \u001b[0m_get_plot_backend\u001b[0m\u001b[0;34m(\u001b[0m\u001b[0mbackend\u001b[0m\u001b[0;34m)\u001b[0m\u001b[0;34m\u001b[0m\u001b[0;34m\u001b[0m\u001b[0m\n\u001b[0m\u001b[1;32m     74\u001b[0m     return plot_backend.hist_series(\n\u001b[1;32m     75\u001b[0m         \u001b[0mself\u001b[0m\u001b[0;34m,\u001b[0m\u001b[0;34m\u001b[0m\u001b[0;34m\u001b[0m\u001b[0m\n",
      "\u001b[0;32m/usr/local/lib/python3.6/dist-packages/pandas/plotting/_core.py\u001b[0m in \u001b[0;36m_get_plot_backend\u001b[0;34m(backend)\u001b[0m\n\u001b[1;32m   1667\u001b[0m                 \u001b[0;34m\"matplotlib is required for plotting when the \"\u001b[0m\u001b[0;34m\u001b[0m\u001b[0;34m\u001b[0m\u001b[0m\n\u001b[1;32m   1668\u001b[0m                 \u001b[0;34m'default backend \"matplotlib\" is selected.'\u001b[0m\u001b[0;34m\u001b[0m\u001b[0;34m\u001b[0m\u001b[0m\n\u001b[0;32m-> 1669\u001b[0;31m             ) from None\n\u001b[0m\u001b[1;32m   1670\u001b[0m \u001b[0;34m\u001b[0m\u001b[0m\n\u001b[1;32m   1671\u001b[0m         \u001b[0m_backends\u001b[0m\u001b[0;34m[\u001b[0m\u001b[0;34m\"matplotlib\"\u001b[0m\u001b[0;34m]\u001b[0m \u001b[0;34m=\u001b[0m \u001b[0mmodule\u001b[0m\u001b[0;34m\u001b[0m\u001b[0;34m\u001b[0m\u001b[0m\n",
      "\u001b[0;31mImportError\u001b[0m: matplotlib is required for plotting when the default backend \"matplotlib\" is selected."
     ]
    }
   ],
   "source": [
    "df['weekday'].hist()"
   ]
  },
  {
   "cell_type": "markdown",
   "metadata": {},
   "source": [
    "Как отправить эти данные в машину? Превратить в числа. Первое что приходит в голову - просто выдать номер для каждого для недели.\n",
    "\n",
    "Но тогда получится, что воскренье больше понедельника, что не так - они идут подряд, а это может сбить некоторые модели с толку. Поэтому вместо этого создадим по булевому признаку для каждого дня недели."
   ]
  },
  {
   "cell_type": "code",
   "execution_count": 35,
   "metadata": {},
   "outputs": [],
   "source": [
    "df = pd.concat([df, pd.get_dummies(df['weekday'], prefix='is_')] , axis=1)"
   ]
  },
  {
   "cell_type": "code",
   "execution_count": 36,
   "metadata": {},
   "outputs": [
    {
     "data": {
      "text/html": [
       "<div>\n",
       "<style scoped>\n",
       "    .dataframe tbody tr th:only-of-type {\n",
       "        vertical-align: middle;\n",
       "    }\n",
       "\n",
       "    .dataframe tbody tr th {\n",
       "        vertical-align: top;\n",
       "    }\n",
       "\n",
       "    .dataframe thead th {\n",
       "        text-align: right;\n",
       "    }\n",
       "</style>\n",
       "<table border=\"1\" class=\"dataframe\">\n",
       "  <thead>\n",
       "    <tr style=\"text-align: right;\">\n",
       "      <th></th>\n",
       "      <th>text</th>\n",
       "      <th>views</th>\n",
       "      <th>likes</th>\n",
       "      <th>comments</th>\n",
       "      <th>is_ad</th>\n",
       "      <th>attachments</th>\n",
       "      <th>is_repost</th>\n",
       "      <th>time</th>\n",
       "      <th>raw</th>\n",
       "      <th>is_partner</th>\n",
       "      <th>weekday</th>\n",
       "      <th>is__Friday</th>\n",
       "      <th>is__Monday</th>\n",
       "      <th>is__Saturday</th>\n",
       "      <th>is__Sunday</th>\n",
       "      <th>is__Thursday</th>\n",
       "      <th>is__Tuesday</th>\n",
       "      <th>is__Wednesday</th>\n",
       "    </tr>\n",
       "  </thead>\n",
       "  <tbody>\n",
       "    <tr>\n",
       "      <th>1653786</th>\n",
       "      <td>Шарите в Java? Есть отличный шанс это продемон...</td>\n",
       "      <td>90955</td>\n",
       "      <td>416</td>\n",
       "      <td>156</td>\n",
       "      <td>0</td>\n",
       "      <td>[{'type': 'photo', 'photo': {'id': 457676504, ...</td>\n",
       "      <td>0</td>\n",
       "      <td>1581689820</td>\n",
       "      <td>{'id': 1653786, 'from_id': -30666517, 'owner_i...</td>\n",
       "      <td>0</td>\n",
       "      <td>Friday</td>\n",
       "      <td>1</td>\n",
       "      <td>0</td>\n",
       "      <td>0</td>\n",
       "      <td>0</td>\n",
       "      <td>0</td>\n",
       "      <td>0</td>\n",
       "      <td>0</td>\n",
       "    </tr>\n",
       "    <tr>\n",
       "      <th>1655188</th>\n",
       "      <td>Генерация случайных чисел — задача не из прост...</td>\n",
       "      <td>8108</td>\n",
       "      <td>51</td>\n",
       "      <td>11</td>\n",
       "      <td>0</td>\n",
       "      <td>[{'type': 'video', 'video': {'access_key': '0e...</td>\n",
       "      <td>0</td>\n",
       "      <td>1582476180</td>\n",
       "      <td>{'id': 1655188, 'from_id': -30666517, 'owner_i...</td>\n",
       "      <td>0</td>\n",
       "      <td>Sunday</td>\n",
       "      <td>0</td>\n",
       "      <td>0</td>\n",
       "      <td>0</td>\n",
       "      <td>1</td>\n",
       "      <td>0</td>\n",
       "      <td>0</td>\n",
       "      <td>0</td>\n",
       "    </tr>\n",
       "    <tr>\n",
       "      <th>1655157</th>\n",
       "      <td>Git pull и git fetch — в чём разница?\\n\\nЧитай...</td>\n",
       "      <td>27263</td>\n",
       "      <td>126</td>\n",
       "      <td>16</td>\n",
       "      <td>0</td>\n",
       "      <td>[{'type': 'photo', 'photo': {'id': 457676335, ...</td>\n",
       "      <td>0</td>\n",
       "      <td>1582456560</td>\n",
       "      <td>{'id': 1655157, 'from_id': -30666517, 'owner_i...</td>\n",
       "      <td>0</td>\n",
       "      <td>Sunday</td>\n",
       "      <td>0</td>\n",
       "      <td>0</td>\n",
       "      <td>0</td>\n",
       "      <td>1</td>\n",
       "      <td>0</td>\n",
       "      <td>0</td>\n",
       "      <td>0</td>\n",
       "    </tr>\n",
       "    <tr>\n",
       "      <th>1655094</th>\n",
       "      <td>Начните своё утро с годного музыкального дипфе...</td>\n",
       "      <td>43855</td>\n",
       "      <td>165</td>\n",
       "      <td>20</td>\n",
       "      <td>0</td>\n",
       "      <td>[{'type': 'video', 'video': {'access_key': '68...</td>\n",
       "      <td>0</td>\n",
       "      <td>1582438440</td>\n",
       "      <td>{'id': 1655094, 'from_id': -30666517, 'owner_i...</td>\n",
       "      <td>0</td>\n",
       "      <td>Sunday</td>\n",
       "      <td>0</td>\n",
       "      <td>0</td>\n",
       "      <td>0</td>\n",
       "      <td>1</td>\n",
       "      <td>0</td>\n",
       "      <td>0</td>\n",
       "      <td>0</td>\n",
       "    </tr>\n",
       "    <tr>\n",
       "      <th>1655065</th>\n",
       "      <td>В обучении программированию, как и в любом дру...</td>\n",
       "      <td>32126</td>\n",
       "      <td>166</td>\n",
       "      <td>7</td>\n",
       "      <td>0</td>\n",
       "      <td>[{'type': 'link', 'link': {'url': 'https://tpr...</td>\n",
       "      <td>0</td>\n",
       "      <td>1582385580</td>\n",
       "      <td>{'id': 1655065, 'from_id': -30666517, 'owner_i...</td>\n",
       "      <td>0</td>\n",
       "      <td>Saturday</td>\n",
       "      <td>0</td>\n",
       "      <td>0</td>\n",
       "      <td>1</td>\n",
       "      <td>0</td>\n",
       "      <td>0</td>\n",
       "      <td>0</td>\n",
       "      <td>0</td>\n",
       "    </tr>\n",
       "  </tbody>\n",
       "</table>\n",
       "</div>"
      ],
      "text/plain": [
       "                                                      text  views  likes  \\\n",
       "1653786  Шарите в Java? Есть отличный шанс это продемон...  90955    416   \n",
       "1655188  Генерация случайных чисел — задача не из прост...   8108     51   \n",
       "1655157  Git pull и git fetch — в чём разница?\\n\\nЧитай...  27263    126   \n",
       "1655094  Начните своё утро с годного музыкального дипфе...  43855    165   \n",
       "1655065  В обучении программированию, как и в любом дру...  32126    166   \n",
       "\n",
       "         comments  is_ad                                        attachments  \\\n",
       "1653786       156      0  [{'type': 'photo', 'photo': {'id': 457676504, ...   \n",
       "1655188        11      0  [{'type': 'video', 'video': {'access_key': '0e...   \n",
       "1655157        16      0  [{'type': 'photo', 'photo': {'id': 457676335, ...   \n",
       "1655094        20      0  [{'type': 'video', 'video': {'access_key': '68...   \n",
       "1655065         7      0  [{'type': 'link', 'link': {'url': 'https://tpr...   \n",
       "\n",
       "         is_repost        time  \\\n",
       "1653786          0  1581689820   \n",
       "1655188          0  1582476180   \n",
       "1655157          0  1582456560   \n",
       "1655094          0  1582438440   \n",
       "1655065          0  1582385580   \n",
       "\n",
       "                                                       raw  is_partner  \\\n",
       "1653786  {'id': 1653786, 'from_id': -30666517, 'owner_i...           0   \n",
       "1655188  {'id': 1655188, 'from_id': -30666517, 'owner_i...           0   \n",
       "1655157  {'id': 1655157, 'from_id': -30666517, 'owner_i...           0   \n",
       "1655094  {'id': 1655094, 'from_id': -30666517, 'owner_i...           0   \n",
       "1655065  {'id': 1655065, 'from_id': -30666517, 'owner_i...           0   \n",
       "\n",
       "          weekday  is__Friday  is__Monday  is__Saturday  is__Sunday  \\\n",
       "1653786    Friday           1           0             0           0   \n",
       "1655188    Sunday           0           0             0           1   \n",
       "1655157    Sunday           0           0             0           1   \n",
       "1655094    Sunday           0           0             0           1   \n",
       "1655065  Saturday           0           0             1           0   \n",
       "\n",
       "         is__Thursday  is__Tuesday  is__Wednesday  \n",
       "1653786             0            0              0  \n",
       "1655188             0            0              0  \n",
       "1655157             0            0              0  \n",
       "1655094             0            0              0  \n",
       "1655065             0            0              0  "
      ]
     },
     "execution_count": 36,
     "metadata": {},
     "output_type": "execute_result"
    }
   ],
   "source": [
    "df.head()"
   ]
  },
  {
   "cell_type": "markdown",
   "metadata": {},
   "source": [
    "Сделаем еще пару признаков - длина текста и количество вложений."
   ]
  },
  {
   "cell_type": "code",
   "execution_count": 37,
   "metadata": {},
   "outputs": [],
   "source": [
    "df['attachments_len'] = df['attachments'].apply(lambda x:len(x))\n",
    "df['text_len'] = df['text'].apply(lambda x:len(x))"
   ]
  },
  {
   "cell_type": "markdown",
   "metadata": {},
   "source": [
    "#### Убираем аутлайнеров\n",
    "\n",
    "Как мы видели ранее, в наших данных есть очень нетипичные почты, которые сильно отличаются от остальных. Например, пост про новый год, у которого очень много лайков.\n",
    "\n",
    "Если мы хотим сделать модель с более высокой обобщающей способностью, такие данные полезно отбросить. Например, можно посмотреть на стандартное отклонение и отбросить все, что лежит сильно дальше среднего.\n",
    "\n",
    "Однако, становится ли от этого лучше, стоит отдельно проверить позже."
   ]
  },
  {
   "cell_type": "code",
   "execution_count": 38,
   "metadata": {},
   "outputs": [],
   "source": [
    "learn_df = df.drop(columns=['text', 'attachments', 'raw', 'weekday'])"
   ]
  },
  {
   "cell_type": "code",
   "execution_count": 39,
   "metadata": {},
   "outputs": [
    {
     "name": "stdout",
     "output_type": "stream",
     "text": [
      "(6777, 20)\n",
      "(5708, 16)\n"
     ]
    }
   ],
   "source": [
    "def not_outliner(value, mean_value, std_value):\n",
    "    if mean_value - 3 * std_value < value < mean_value + 3 * std_value:\n",
    "        return True\n",
    "    return False\n",
    "\n",
    "for column in learn_df.columns:\n",
    "    mean_value = df[column].mean()\n",
    "    std_value = df[column].std()\n",
    "    regular_posts = learn_df[column].apply(lambda x: not_outliner(x, mean_value, std_value))\n",
    "    learn_df = learn_df[regular_posts]\n",
    "\n",
    "print(df.shape)\n",
    "print(learn_df.shape)"
   ]
  },
  {
   "cell_type": "markdown",
   "metadata": {},
   "source": [
    "#### Обучаем модели"
   ]
  },
  {
   "cell_type": "code",
   "execution_count": 40,
   "metadata": {},
   "outputs": [],
   "source": [
    "X = learn_df.drop(columns=['views'])\n",
    "Y = learn_df['views']"
   ]
  },
  {
   "cell_type": "code",
   "execution_count": 41,
   "metadata": {},
   "outputs": [
    {
     "ename": "ModuleNotFoundError",
     "evalue": "No module named 'sklearn'",
     "output_type": "error",
     "traceback": [
      "\u001b[0;31m---------------------------------------------------------------------------\u001b[0m",
      "\u001b[0;31mModuleNotFoundError\u001b[0m                       Traceback (most recent call last)",
      "\u001b[0;32m<ipython-input-41-889e61b26d89>\u001b[0m in \u001b[0;36m<module>\u001b[0;34m\u001b[0m\n\u001b[0;32m----> 1\u001b[0;31m \u001b[0;32mfrom\u001b[0m \u001b[0msklearn\u001b[0m\u001b[0;34m.\u001b[0m\u001b[0mmodel_selection\u001b[0m \u001b[0;32mimport\u001b[0m \u001b[0mtrain_test_split\u001b[0m\u001b[0;34m\u001b[0m\u001b[0;34m\u001b[0m\u001b[0m\n\u001b[0m\u001b[1;32m      2\u001b[0m \u001b[0;34m\u001b[0m\u001b[0m\n\u001b[1;32m      3\u001b[0m \u001b[0mX_train\u001b[0m\u001b[0;34m,\u001b[0m \u001b[0mX_test\u001b[0m\u001b[0;34m,\u001b[0m \u001b[0mY_train\u001b[0m\u001b[0;34m,\u001b[0m \u001b[0mY_test\u001b[0m \u001b[0;34m=\u001b[0m \u001b[0mtrain_test_split\u001b[0m\u001b[0;34m(\u001b[0m\u001b[0mX\u001b[0m\u001b[0;34m,\u001b[0m \u001b[0mY\u001b[0m\u001b[0;34m,\u001b[0m \u001b[0mrandom_state\u001b[0m\u001b[0;34m=\u001b[0m\u001b[0;36m42\u001b[0m\u001b[0;34m)\u001b[0m\u001b[0;34m\u001b[0m\u001b[0;34m\u001b[0m\u001b[0m\n",
      "\u001b[0;31mModuleNotFoundError\u001b[0m: No module named 'sklearn'"
     ]
    }
   ],
   "source": [
    "from sklearn.model_selection import train_test_split\n",
    "\n",
    "X_train, X_test, Y_train, Y_test = train_test_split(X, Y, random_state=42)"
   ]
  },
  {
   "cell_type": "code",
   "execution_count": 42,
   "metadata": {},
   "outputs": [
    {
     "ename": "ModuleNotFoundError",
     "evalue": "No module named 'sklearn'",
     "output_type": "error",
     "traceback": [
      "\u001b[0;31m---------------------------------------------------------------------------\u001b[0m",
      "\u001b[0;31mModuleNotFoundError\u001b[0m                       Traceback (most recent call last)",
      "\u001b[0;32m<ipython-input-42-0e044372b642>\u001b[0m in \u001b[0;36m<module>\u001b[0;34m\u001b[0m\n\u001b[0;32m----> 1\u001b[0;31m \u001b[0;32mfrom\u001b[0m \u001b[0msklearn\u001b[0m\u001b[0;34m.\u001b[0m\u001b[0mpreprocessing\u001b[0m \u001b[0;32mimport\u001b[0m \u001b[0mStandardScaler\u001b[0m\u001b[0;34m\u001b[0m\u001b[0;34m\u001b[0m\u001b[0m\n\u001b[0m\u001b[1;32m      2\u001b[0m \u001b[0;34m\u001b[0m\u001b[0m\n\u001b[1;32m      3\u001b[0m \u001b[0mscaler\u001b[0m \u001b[0;34m=\u001b[0m \u001b[0mStandardScaler\u001b[0m\u001b[0;34m(\u001b[0m\u001b[0;34m)\u001b[0m\u001b[0;34m\u001b[0m\u001b[0;34m\u001b[0m\u001b[0m\n\u001b[1;32m      4\u001b[0m \u001b[0mscaler\u001b[0m\u001b[0;34m.\u001b[0m\u001b[0mfit\u001b[0m\u001b[0;34m(\u001b[0m\u001b[0mX_train\u001b[0m\u001b[0;34m)\u001b[0m\u001b[0;34m\u001b[0m\u001b[0;34m\u001b[0m\u001b[0m\n\u001b[1;32m      5\u001b[0m \u001b[0;34m\u001b[0m\u001b[0m\n",
      "\u001b[0;31mModuleNotFoundError\u001b[0m: No module named 'sklearn'"
     ]
    }
   ],
   "source": [
    "from sklearn.preprocessing import StandardScaler\n",
    "\n",
    "scaler = StandardScaler()\n",
    "scaler.fit(X_train)\n",
    "\n",
    "X_train = scaler.transform(X_train)\n",
    "X_test = scaler.transform(X_test)"
   ]
  },
  {
   "cell_type": "code",
   "execution_count": 43,
   "metadata": {},
   "outputs": [
    {
     "ename": "ModuleNotFoundError",
     "evalue": "No module named 'sklearn'",
     "output_type": "error",
     "traceback": [
      "\u001b[0;31m---------------------------------------------------------------------------\u001b[0m",
      "\u001b[0;31mModuleNotFoundError\u001b[0m                       Traceback (most recent call last)",
      "\u001b[0;32m<ipython-input-43-94a13501b7a0>\u001b[0m in \u001b[0;36m<module>\u001b[0;34m\u001b[0m\n\u001b[0;32m----> 1\u001b[0;31m \u001b[0;32mfrom\u001b[0m \u001b[0msklearn\u001b[0m\u001b[0;34m.\u001b[0m\u001b[0mlinear_model\u001b[0m \u001b[0;32mimport\u001b[0m \u001b[0mLinearRegression\u001b[0m\u001b[0;34m,\u001b[0m \u001b[0mRidge\u001b[0m\u001b[0;34m\u001b[0m\u001b[0;34m\u001b[0m\u001b[0m\n\u001b[0m\u001b[1;32m      2\u001b[0m \u001b[0;32mfrom\u001b[0m \u001b[0msklearn\u001b[0m\u001b[0;34m.\u001b[0m\u001b[0mtree\u001b[0m \u001b[0;32mimport\u001b[0m \u001b[0mDecisionTreeRegressor\u001b[0m\u001b[0;34m\u001b[0m\u001b[0;34m\u001b[0m\u001b[0m\n\u001b[1;32m      3\u001b[0m \u001b[0;32mfrom\u001b[0m \u001b[0msklearn\u001b[0m\u001b[0;34m.\u001b[0m\u001b[0mensemble\u001b[0m \u001b[0;32mimport\u001b[0m \u001b[0mRandomForestRegressor\u001b[0m\u001b[0;34m,\u001b[0m \u001b[0mGradientBoostingRegressor\u001b[0m\u001b[0;34m\u001b[0m\u001b[0;34m\u001b[0m\u001b[0m\n\u001b[1;32m      4\u001b[0m \u001b[0;32mfrom\u001b[0m \u001b[0msklearn\u001b[0m\u001b[0;34m.\u001b[0m\u001b[0mmetrics\u001b[0m \u001b[0;32mimport\u001b[0m \u001b[0mmean_squared_error\u001b[0m\u001b[0;34m\u001b[0m\u001b[0;34m\u001b[0m\u001b[0m\n\u001b[1;32m      5\u001b[0m \u001b[0;34m\u001b[0m\u001b[0m\n",
      "\u001b[0;31mModuleNotFoundError\u001b[0m: No module named 'sklearn'"
     ]
    }
   ],
   "source": [
    "from sklearn.linear_model import LinearRegression, Ridge\n",
    "from sklearn.tree import DecisionTreeRegressor\n",
    "from sklearn.ensemble import RandomForestRegressor, GradientBoostingRegressor\n",
    "from sklearn.metrics import mean_squared_error\n",
    "\n",
    "models = {\n",
    "    \"linear\": LinearRegression(),\n",
    "    \"linear with regularisation\": Ridge(),\n",
    "    \"tree\": DecisionTreeRegressor(max_depth=5),\n",
    "    \"forest\": RandomForestRegressor(),\n",
    "    \"gradient_boosting\": GradientBoostingRegressor()\n",
    "}\n",
    "\n",
    "for model_name in models:\n",
    "    models[model_name].fit(X_train, Y_train)\n",
    "    train_predictions = models[model_name].predict(X_train)\n",
    "    test_predictions = models[model_name].predict(X_test)\n",
    "    \n",
    "    print(\"\")\n",
    "    print(\"Model: \", model_name)\n",
    "    print(\"Train MSE:\", mean_squared_error(Y_train, train_predictions) ** 0.5)\n",
    "    print(\"Test MSE:\", mean_squared_error(Y_test, test_predictions) ** 0.5)"
   ]
  },
  {
   "cell_type": "markdown",
   "metadata": {},
   "source": [
    "На данный момент лучше всего работает случайный лес и градиентный бустинг. Можно посмотреть, на какие признаки он опирается."
   ]
  },
  {
   "cell_type": "code",
   "execution_count": 44,
   "metadata": {},
   "outputs": [
    {
     "ename": "NameError",
     "evalue": "name 'models' is not defined",
     "output_type": "error",
     "traceback": [
      "\u001b[0;31m---------------------------------------------------------------------------\u001b[0m",
      "\u001b[0;31mNameError\u001b[0m                                 Traceback (most recent call last)",
      "\u001b[0;32m<ipython-input-44-0383b6a9ab6e>\u001b[0m in \u001b[0;36m<module>\u001b[0;34m\u001b[0m\n\u001b[0;32m----> 1\u001b[0;31m \u001b[0;32mfor\u001b[0m \u001b[0;34m(\u001b[0m\u001b[0mw\u001b[0m\u001b[0;34m,\u001b[0m \u001b[0mn\u001b[0m\u001b[0;34m)\u001b[0m \u001b[0;32min\u001b[0m \u001b[0msorted\u001b[0m\u001b[0;34m(\u001b[0m\u001b[0mzip\u001b[0m\u001b[0;34m(\u001b[0m\u001b[0mmodels\u001b[0m\u001b[0;34m[\u001b[0m\u001b[0;34m\"forest\"\u001b[0m\u001b[0;34m]\u001b[0m\u001b[0;34m.\u001b[0m\u001b[0mfeature_importances_\u001b[0m\u001b[0;34m,\u001b[0m \u001b[0mX\u001b[0m\u001b[0;34m.\u001b[0m\u001b[0mcolumns\u001b[0m\u001b[0;34m)\u001b[0m\u001b[0;34m)\u001b[0m\u001b[0;34m:\u001b[0m\u001b[0;34m\u001b[0m\u001b[0;34m\u001b[0m\u001b[0m\n\u001b[0m\u001b[1;32m      2\u001b[0m     \u001b[0mprint\u001b[0m\u001b[0;34m(\u001b[0m\u001b[0mn\u001b[0m\u001b[0;34m,\u001b[0m \u001b[0;34m\" - \"\u001b[0m\u001b[0;34m,\u001b[0m \u001b[0mw\u001b[0m\u001b[0;34m)\u001b[0m\u001b[0;34m\u001b[0m\u001b[0;34m\u001b[0m\u001b[0m\n",
      "\u001b[0;31mNameError\u001b[0m: name 'models' is not defined"
     ]
    }
   ],
   "source": [
    "for (w, n) in sorted(zip(models[\"forest\"].feature_importances_, X.columns)):\n",
    "    print(n, \" - \", w)"
   ]
  },
  {
   "cell_type": "markdown",
   "metadata": {},
   "source": [
    "Чтобы посмотреть, влияют ли признаки негативно или положительно можем дополнительно посмотреть на регрессию."
   ]
  },
  {
   "cell_type": "code",
   "execution_count": 45,
   "metadata": {},
   "outputs": [
    {
     "ename": "NameError",
     "evalue": "name 'models' is not defined",
     "output_type": "error",
     "traceback": [
      "\u001b[0;31m---------------------------------------------------------------------------\u001b[0m",
      "\u001b[0;31mNameError\u001b[0m                                 Traceback (most recent call last)",
      "\u001b[0;32m<ipython-input-45-006fdfe00304>\u001b[0m in \u001b[0;36m<module>\u001b[0;34m\u001b[0m\n\u001b[0;32m----> 1\u001b[0;31m \u001b[0;32mfor\u001b[0m \u001b[0;34m(\u001b[0m\u001b[0mw\u001b[0m\u001b[0;34m,\u001b[0m \u001b[0mn\u001b[0m\u001b[0;34m)\u001b[0m \u001b[0;32min\u001b[0m \u001b[0msorted\u001b[0m\u001b[0;34m(\u001b[0m\u001b[0mzip\u001b[0m\u001b[0;34m(\u001b[0m\u001b[0mmodels\u001b[0m\u001b[0;34m[\u001b[0m\u001b[0;34m\"linear\"\u001b[0m\u001b[0;34m]\u001b[0m\u001b[0;34m.\u001b[0m\u001b[0mcoef_\u001b[0m\u001b[0;34m,\u001b[0m \u001b[0mX\u001b[0m\u001b[0;34m.\u001b[0m\u001b[0mcolumns\u001b[0m\u001b[0;34m)\u001b[0m\u001b[0;34m)\u001b[0m\u001b[0;34m:\u001b[0m\u001b[0;34m\u001b[0m\u001b[0;34m\u001b[0m\u001b[0m\n\u001b[0m\u001b[1;32m      2\u001b[0m     \u001b[0mprint\u001b[0m\u001b[0;34m(\u001b[0m\u001b[0mn\u001b[0m\u001b[0;34m,\u001b[0m \u001b[0;34m\" - \"\u001b[0m\u001b[0;34m,\u001b[0m \u001b[0mw\u001b[0m\u001b[0;34m)\u001b[0m\u001b[0;34m\u001b[0m\u001b[0;34m\u001b[0m\u001b[0m\n",
      "\u001b[0;31mNameError\u001b[0m: name 'models' is not defined"
     ]
    }
   ],
   "source": [
    "for (w, n) in sorted(zip(models[\"linear\"].coef_, X.columns)):\n",
    "    print(n, \" - \", w)"
   ]
  },
  {
   "cell_type": "markdown",
   "metadata": {},
   "source": [
    "Выходит, что лучше всего публиковать посты в воскресенье, а хуже всего в среду. Много вложений - это плохо."
   ]
  }
 ],
 "metadata": {
  "kernelspec": {
   "display_name": "Python 3",
   "language": "python",
   "name": "python3"
  },
  "language_info": {
   "codemirror_mode": {
    "name": "ipython",
    "version": 3
   },
   "file_extension": ".py",
   "mimetype": "text/x-python",
   "name": "python",
   "nbconvert_exporter": "python",
   "pygments_lexer": "ipython3",
   "version": "3.6.9"
  }
 },
 "nbformat": 4,
 "nbformat_minor": 4
}
