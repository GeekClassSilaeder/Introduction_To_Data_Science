{
 "cells": [
  {
   "cell_type": "code",
   "execution_count": null,
   "metadata": {},
   "outputs": [],
   "source": [
    "from selenium import webdriver\n",
    "from bs4 import BeautifulSoup\n",
    "import time\n",
    "import pandas as pd\n",
    "\n",
    "filename = 'mos_ru_news.csv'\n",
    "driver = webdriver.Chrome()\n",
    "driver.get('https://www.mos.ru/news/')\n",
    "\n",
    "try:\n",
    "    for i in range(10):\n",
    "        element = driver.find_element_by_xpath(\"//a[@class='mos-button']\")\n",
    "        element.click()\n",
    "        time.sleep(3)\n",
    "        print(i)\n",
    "except Exception as e:\n",
    "    print(e)"
   ]
  },
  {
   "cell_type": "code",
   "execution_count": null,
   "metadata": {},
   "outputs": [],
   "source": [
    "soup = BeautifulSoup(driver.page_source, 'html.parser')\n",
    "data = pd.DataFrame(columns=['Date', 'News', 'Class', 'Link', 'Text'])\n",
    "\n",
    "all_news = soup.find_all('main-news')[0]"
   ]
  },
  {
   "cell_type": "code",
   "execution_count": null,
   "metadata": {},
   "outputs": [],
   "source": [
    "links_to_parse = []\n",
    "\n",
    "for link in all_news.find_all('a', {'class': 'commonCard__link'}):\n",
    "    print('https://www.mos.ru/' + link['href'])\n",
    "    links_to_parse.append('https://www.mos.ru/' + link['href'])\n",
    "    "
   ]
  },
  {
   "cell_type": "code",
   "execution_count": null,
   "metadata": {},
   "outputs": [],
   "source": [
    "text_arr = []\n",
    "for url in links_to_parse:\n",
    "    driver.get(url)\n",
    "    time.sleep(2)\n",
    "    \n",
    "    text = driver.find_element_by_class_name('news-article-content').text\n",
    "    text_arr.append(text)\n",
    "    print(url)\n"
   ]
  },
  {
   "cell_type": "code",
   "execution_count": null,
   "metadata": {},
   "outputs": [],
   "source": [
    "ind = 0\n",
    "\n",
    "for news in all_news.find_all('div', {'class': 'commonCard'}):\n",
    "    t = news.findChildren('span', {'class': \"commonCard__title\"} , recursive=True)\n",
    "    add = list(news.findChildren('span', {'class': \"extraList__item\"} , recursive=True))\n",
    "    \n",
    "    try:\n",
    "        data.loc[ind] = {'Date': add[0].text.rstrip('\\n'), 'News': t[0].text.rstrip('\\n'), 'Class': add[1].text.rstrip('\\n'), 'Link': links_to_parse[ind], 'Text': text_arr[ind]}\n",
    "    except:\n",
    "        pass\n",
    "    \n",
    "    data.to_csv(filename, index=False)\n",
    "    ind += 1\n",
    "\n",
    "data"
   ]
  },
  {
   "cell_type": "code",
   "execution_count": null,
   "metadata": {},
   "outputs": [],
   "source": [
    "file = pd.read_csv('mos_ru_news.csv')\n",
    "\n",
    "file.head()"
   ]
  },
  {
   "cell_type": "code",
   "execution_count": null,
   "metadata": {},
   "outputs": [],
   "source": []
  }
 ],
 "metadata": {
  "kernelspec": {
   "display_name": "Python 3",
   "language": "python",
   "name": "python3"
  }
 },
 "nbformat": 4,
 "nbformat_minor": 4
}
