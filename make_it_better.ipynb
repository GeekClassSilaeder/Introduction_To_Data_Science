{
 "cells": [
  {
   "cell_type": "markdown",
   "metadata": {},
   "source": [
    "#### Скачивание данных"
   ]
  },
  {
   "cell_type": "code",
   "execution_count": 1,
   "metadata": {},
   "outputs": [
    {
     "name": "stdout",
     "output_type": "stream",
     "text": [
      "Defaulting to user installation because normal site-packages is not writeable\n",
      "Requirement already satisfied: vk in /home/pavtiger/.local/lib/python3.6/site-packages (2.0.2)\n",
      "Requirement already satisfied: requests<3.0,>=2.8 in /usr/lib/python3/dist-packages (from vk) (2.18.4)\n",
      "Defaulting to user installation because normal site-packages is not writeable\n",
      "Requirement already satisfied: tqdm in /home/pavtiger/.local/lib/python3.6/site-packages (4.43.0)\n"
     ]
    }
   ],
   "source": [
    "!pip install vk\n",
    "!pip install tqdm"
   ]
  },
  {
   "cell_type": "markdown",
   "metadata": {},
   "source": [
    "Аккуратно скачаем все посты из группы.\n",
    "\n",
    "* Используем tqdm для удобного вывода прогресса.\n",
    "* На всякий случай запомним пост полностью, чтобы не скачивать все заного, если что-то потом \"всплывет\".\n",
    "* Просмотры появились в постах не так давно, в старых их просто не будет. Предусмотрим это в коде.\n",
    "* Вложений тоже может не быть, поэтому будем с ними аккуратнее."
   ]
  },
  {
   "cell_type": "code",
   "execution_count": 2,
   "metadata": {},
   "outputs": [
    {
     "name": "stderr",
     "output_type": "stream",
     "text": [
      " 27%|██▋       | 67/244 [02:00<05:46,  1.96s/it]"
     ]
    },
    {
     "name": "stdout",
     "output_type": "stream",
     "text": [
      "Error: No views in post\n",
      "(6786, 9)\n"
     ]
    },
    {
     "data": {
      "text/html": [
       "<div>\n",
       "<style scoped>\n",
       "    .dataframe tbody tr th:only-of-type {\n",
       "        vertical-align: middle;\n",
       "    }\n",
       "\n",
       "    .dataframe tbody tr th {\n",
       "        vertical-align: top;\n",
       "    }\n",
       "\n",
       "    .dataframe thead th {\n",
       "        text-align: right;\n",
       "    }\n",
       "</style>\n",
       "<table border=\"1\" class=\"dataframe\">\n",
       "  <thead>\n",
       "    <tr style=\"text-align: right;\">\n",
       "      <th></th>\n",
       "      <th>text</th>\n",
       "      <th>views</th>\n",
       "      <th>likes</th>\n",
       "      <th>comments</th>\n",
       "      <th>is_ad</th>\n",
       "      <th>attachments</th>\n",
       "      <th>is_repost</th>\n",
       "      <th>time</th>\n",
       "      <th>raw</th>\n",
       "    </tr>\n",
       "  </thead>\n",
       "  <tbody>\n",
       "    <tr>\n",
       "      <th>1653786</th>\n",
       "      <td>Шарите в Java? Есть отличный шанс это продемон...</td>\n",
       "      <td>94364</td>\n",
       "      <td>439</td>\n",
       "      <td>163</td>\n",
       "      <td>0</td>\n",
       "      <td>[{'type': 'photo', 'photo': {'id': 457676504, ...</td>\n",
       "      <td>False</td>\n",
       "      <td>1581689820</td>\n",
       "      <td>{'id': 1653786, 'from_id': -30666517, 'owner_i...</td>\n",
       "    </tr>\n",
       "    <tr>\n",
       "      <th>1655514</th>\n",
       "      <td>Про Си написано достаточно книг, многие из них...</td>\n",
       "      <td>40699</td>\n",
       "      <td>207</td>\n",
       "      <td>55</td>\n",
       "      <td>0</td>\n",
       "      <td>[{'type': 'photo', 'photo': {'id': 457685524, ...</td>\n",
       "      <td>False</td>\n",
       "      <td>1582733760</td>\n",
       "      <td>{'id': 1655514, 'from_id': -30666517, 'owner_i...</td>\n",
       "    </tr>\n",
       "    <tr>\n",
       "      <th>1655486</th>\n",
       "      <td>Учёные научились генерировать случайные числа ...</td>\n",
       "      <td>35096</td>\n",
       "      <td>147</td>\n",
       "      <td>18</td>\n",
       "      <td>0</td>\n",
       "      <td>[{'type': 'photo', 'photo': {'id': 457687288, ...</td>\n",
       "      <td>False</td>\n",
       "      <td>1582718762</td>\n",
       "      <td>{'id': 1655486, 'from_id': -30666517, 'owner_i...</td>\n",
       "    </tr>\n",
       "    <tr>\n",
       "      <th>1655472</th>\n",
       "      <td>Сайт i Hate Regex, на котором можно воспользов...</td>\n",
       "      <td>52893</td>\n",
       "      <td>540</td>\n",
       "      <td>13</td>\n",
       "      <td>0</td>\n",
       "      <td>[{'type': 'photo', 'photo': {'id': 457675569, ...</td>\n",
       "      <td>False</td>\n",
       "      <td>1582703685</td>\n",
       "      <td>{'id': 1655472, 'from_id': -30666517, 'owner_i...</td>\n",
       "    </tr>\n",
       "    <tr>\n",
       "      <th>1655372</th>\n",
       "      <td>Американка разработала аскетичный телефон с ди...</td>\n",
       "      <td>75579</td>\n",
       "      <td>424</td>\n",
       "      <td>79</td>\n",
       "      <td>0</td>\n",
       "      <td>[{'type': 'photo', 'photo': {'id': 457682146, ...</td>\n",
       "      <td>False</td>\n",
       "      <td>1582640280</td>\n",
       "      <td>{'id': 1655372, 'from_id': -30666517, 'owner_i...</td>\n",
       "    </tr>\n",
       "  </tbody>\n",
       "</table>\n",
       "</div>"
      ],
      "text/plain": [
       "                                                      text  views likes  \\\n",
       "1653786  Шарите в Java? Есть отличный шанс это продемон...  94364   439   \n",
       "1655514  Про Си написано достаточно книг, многие из них...  40699   207   \n",
       "1655486  Учёные научились генерировать случайные числа ...  35096   147   \n",
       "1655472  Сайт i Hate Regex, на котором можно воспользов...  52893   540   \n",
       "1655372  Американка разработала аскетичный телефон с ди...  75579   424   \n",
       "\n",
       "        comments is_ad                                        attachments  \\\n",
       "1653786      163     0  [{'type': 'photo', 'photo': {'id': 457676504, ...   \n",
       "1655514       55     0  [{'type': 'photo', 'photo': {'id': 457685524, ...   \n",
       "1655486       18     0  [{'type': 'photo', 'photo': {'id': 457687288, ...   \n",
       "1655472       13     0  [{'type': 'photo', 'photo': {'id': 457675569, ...   \n",
       "1655372       79     0  [{'type': 'photo', 'photo': {'id': 457682146, ...   \n",
       "\n",
       "        is_repost        time  \\\n",
       "1653786     False  1581689820   \n",
       "1655514     False  1582733760   \n",
       "1655486     False  1582718762   \n",
       "1655472     False  1582703685   \n",
       "1655372     False  1582640280   \n",
       "\n",
       "                                                       raw  \n",
       "1653786  {'id': 1653786, 'from_id': -30666517, 'owner_i...  \n",
       "1655514  {'id': 1655514, 'from_id': -30666517, 'owner_i...  \n",
       "1655486  {'id': 1655486, 'from_id': -30666517, 'owner_i...  \n",
       "1655472  {'id': 1655472, 'from_id': -30666517, 'owner_i...  \n",
       "1655372  {'id': 1655372, 'from_id': -30666517, 'owner_i...  "
      ]
     },
     "execution_count": 2,
     "metadata": {},
     "output_type": "execute_result"
    }
   ],
   "source": [
    "import vk\n",
    "import datetime\n",
    "import pandas as pd\n",
    "from tqdm import tqdm\n",
    "\n",
    "session = vk.Session(access_token=\"38479e4a81d854219057927293934ed4d12b1c91afb966101385de82fc3d24310c0d5a039d4a907764504\")\n",
    "api = vk.API(session)\n",
    "\n",
    "columns = ['text', 'views', 'likes', 'comments', 'is_ad', 'attachments', 'is_repost', 'time', 'raw']\n",
    "df = pd.DataFrame(columns=columns)\n",
    "\n",
    "result = api.wall.get(domain='tproger', count=1, v=5.103)\n",
    "count = result['count']\n",
    "\n",
    "for offset in tqdm(range(0, count, 100), position=0, leave=True):\n",
    "    try:\n",
    "        result = api.wall.get(domain='tproger', count=100, offset=offset, v=5.103)\n",
    "        for post in result['items']:\n",
    "            if \"views\" not in post:\n",
    "                raise Exception(\"No views in post\")\n",
    "            \"\"\"\n",
    "            print('--- ' * 10)\n",
    "            print(\"Пост №:\", post['id'])\n",
    "            print(\"Размер текста:\", len(post['text']))\n",
    "            print(\"Просмотры:\", post['views']['count'])\n",
    "            print(\"Лайки:\", post['likes']['count'])\n",
    "            print(\"Коменты:\", post['comments']['count'])\n",
    "            print(\"Реклама?\", post['marked_as_ads'])\n",
    "            print(\"Число вложений:\", len(post['attachments']))\n",
    "            print(\"Репост?\", post.get('copy_history', None) != None)\n",
    "            print(\"Время публикации:\", post['date'])\n",
    "            \"\"\"\n",
    "            attachments = post.get('attachments', [])\n",
    "\n",
    "            df.loc[post['id']] = [\n",
    "                post['text'],  post['views']['count'], post['likes']['count'], post['comments']['count'],\n",
    "                post['marked_as_ads'], attachments, post.get('copy_history', None) != None, \n",
    "                post['date'], post\n",
    "            ]\n",
    "    except Exception as e:\n",
    "        print(\"Error:\", e)\n",
    "        break\n",
    "        \n",
    "\n",
    "\n",
    "print(df.shape)\n",
    "df.head()\n"
   ]
  },
  {
   "cell_type": "markdown",
   "metadata": {},
   "source": [
    "#### Смотрим на данные и правим типы"
   ]
  },
  {
   "cell_type": "markdown",
   "metadata": {},
   "source": [
    "Итак, мы скачали почти 7000 постов. Посмотрим на типы данных колонок."
   ]
  },
  {
   "cell_type": "code",
   "execution_count": 3,
   "metadata": {},
   "outputs": [
    {
     "name": "stdout",
     "output_type": "stream",
     "text": [
      "text: object, 6786\n",
      "views: object, 6786\n",
      "likes: object, 6786\n",
      "comments: object, 6786\n",
      "is_ad: object, 6786\n",
      "attachments: object, 6786\n",
      "is_repost: object, 6786\n",
      "time: object, 6786\n",
      "raw: object, 6786\n"
     ]
    }
   ],
   "source": [
    "for column in columns:\n",
    "    print(f'{column}: {df[column].dtype}, {len(df[column])}')"
   ]
  },
  {
   "cell_type": "markdown",
   "metadata": {},
   "source": [
    "1) Во всех колонках одинаковое число записей, пропущенных значений нет. Иначе мы смогли бы использовать `dropna` или `fillna`, чтобы их заполнить.\n",
    "\n",
    "2) У все колонок тип object (категориальные данные), хотя по факту в некоторых числа. Попробуем преобразовать тип."
   ]
  },
  {
   "cell_type": "code",
   "execution_count": 5,
   "metadata": {},
   "outputs": [],
   "source": [
    "num_columns = ['views', 'likes', 'comments', 'is_ad', 'is_repost', 'time']\n",
    "\n",
    "for column in num_columns:\n",
    "    df[column] = df[column].astype(int)"
   ]
  },
  {
   "cell_type": "code",
   "execution_count": 6,
   "metadata": {},
   "outputs": [
    {
     "name": "stdout",
     "output_type": "stream",
     "text": [
      "text: object, 6786\n",
      "views: int64, 6786\n",
      "likes: int64, 6786\n",
      "comments: int64, 6786\n",
      "is_ad: int64, 6786\n",
      "attachments: object, 6786\n",
      "is_repost: int64, 6786\n",
      "time: int64, 6786\n",
      "raw: object, 6786\n"
     ]
    }
   ],
   "source": [
    "for column in columns:\n",
    "    print(f'{column}: {df[column].dtype}, {len(df[column])}')"
   ]
  },
  {
   "cell_type": "markdown",
   "metadata": {},
   "source": [
    "Отлично, теперь в колонках числа, можем на них посмотреть."
   ]
  },
  {
   "cell_type": "code",
   "execution_count": 7,
   "metadata": {},
   "outputs": [
    {
     "data": {
      "text/html": [
       "<div>\n",
       "<style scoped>\n",
       "    .dataframe tbody tr th:only-of-type {\n",
       "        vertical-align: middle;\n",
       "    }\n",
       "\n",
       "    .dataframe tbody tr th {\n",
       "        vertical-align: top;\n",
       "    }\n",
       "\n",
       "    .dataframe thead th {\n",
       "        text-align: right;\n",
       "    }\n",
       "</style>\n",
       "<table border=\"1\" class=\"dataframe\">\n",
       "  <thead>\n",
       "    <tr style=\"text-align: right;\">\n",
       "      <th></th>\n",
       "      <th>views</th>\n",
       "      <th>likes</th>\n",
       "      <th>comments</th>\n",
       "      <th>is_ad</th>\n",
       "      <th>is_repost</th>\n",
       "      <th>time</th>\n",
       "    </tr>\n",
       "  </thead>\n",
       "  <tbody>\n",
       "    <tr>\n",
       "      <th>count</th>\n",
       "      <td>6786.00000</td>\n",
       "      <td>6786.000000</td>\n",
       "      <td>6786.000000</td>\n",
       "      <td>6786.000000</td>\n",
       "      <td>6786.000000</td>\n",
       "      <td>6.786000e+03</td>\n",
       "    </tr>\n",
       "    <tr>\n",
       "      <th>mean</th>\n",
       "      <td>45154.05865</td>\n",
       "      <td>263.656499</td>\n",
       "      <td>23.149425</td>\n",
       "      <td>0.115090</td>\n",
       "      <td>0.039935</td>\n",
       "      <td>1.527658e+09</td>\n",
       "    </tr>\n",
       "    <tr>\n",
       "      <th>std</th>\n",
       "      <td>18793.29003</td>\n",
       "      <td>307.291181</td>\n",
       "      <td>69.079965</td>\n",
       "      <td>0.319154</td>\n",
       "      <td>0.195821</td>\n",
       "      <td>2.932440e+07</td>\n",
       "    </tr>\n",
       "    <tr>\n",
       "      <th>min</th>\n",
       "      <td>13327.00000</td>\n",
       "      <td>2.000000</td>\n",
       "      <td>0.000000</td>\n",
       "      <td>0.000000</td>\n",
       "      <td>0.000000</td>\n",
       "      <td>1.483218e+09</td>\n",
       "    </tr>\n",
       "    <tr>\n",
       "      <th>25%</th>\n",
       "      <td>34219.25000</td>\n",
       "      <td>66.000000</td>\n",
       "      <td>5.000000</td>\n",
       "      <td>0.000000</td>\n",
       "      <td>0.000000</td>\n",
       "      <td>1.500806e+09</td>\n",
       "    </tr>\n",
       "    <tr>\n",
       "      <th>50%</th>\n",
       "      <td>41685.50000</td>\n",
       "      <td>157.000000</td>\n",
       "      <td>13.000000</td>\n",
       "      <td>0.000000</td>\n",
       "      <td>0.000000</td>\n",
       "      <td>1.528349e+09</td>\n",
       "    </tr>\n",
       "    <tr>\n",
       "      <th>75%</th>\n",
       "      <td>50006.25000</td>\n",
       "      <td>343.000000</td>\n",
       "      <td>26.000000</td>\n",
       "      <td>0.000000</td>\n",
       "      <td>0.000000</td>\n",
       "      <td>1.552212e+09</td>\n",
       "    </tr>\n",
       "    <tr>\n",
       "      <th>max</th>\n",
       "      <td>303645.00000</td>\n",
       "      <td>5044.000000</td>\n",
       "      <td>4558.000000</td>\n",
       "      <td>1.000000</td>\n",
       "      <td>1.000000</td>\n",
       "      <td>1.582734e+09</td>\n",
       "    </tr>\n",
       "  </tbody>\n",
       "</table>\n",
       "</div>"
      ],
      "text/plain": [
       "              views        likes     comments        is_ad    is_repost  \\\n",
       "count    6786.00000  6786.000000  6786.000000  6786.000000  6786.000000   \n",
       "mean    45154.05865   263.656499    23.149425     0.115090     0.039935   \n",
       "std     18793.29003   307.291181    69.079965     0.319154     0.195821   \n",
       "min     13327.00000     2.000000     0.000000     0.000000     0.000000   \n",
       "25%     34219.25000    66.000000     5.000000     0.000000     0.000000   \n",
       "50%     41685.50000   157.000000    13.000000     0.000000     0.000000   \n",
       "75%     50006.25000   343.000000    26.000000     0.000000     0.000000   \n",
       "max    303645.00000  5044.000000  4558.000000     1.000000     1.000000   \n",
       "\n",
       "               time  \n",
       "count  6.786000e+03  \n",
       "mean   1.527658e+09  \n",
       "std    2.932440e+07  \n",
       "min    1.483218e+09  \n",
       "25%    1.500806e+09  \n",
       "50%    1.528349e+09  \n",
       "75%    1.552212e+09  \n",
       "max    1.582734e+09  "
      ]
     },
     "execution_count": 7,
     "metadata": {},
     "output_type": "execute_result"
    }
   ],
   "source": [
    "df.describe()"
   ]
  },
  {
   "cell_type": "code",
   "execution_count": 9,
   "metadata": {},
   "outputs": [
    {
     "name": "stdout",
     "output_type": "stream",
     "text": [
      "views\n"
     ]
    },
    {
     "data": {
      "image/png": "[encoded data removed]",
      "text/plain": [
       "<Figure size 432x288 with 1 Axes>"
      ]
     },
     "metadata": {
      "needs_background": "light"
     },
     "output_type": "display_data"
    },
    {
     "name": "stdout",
     "output_type": "stream",
     "text": [
      "likes\n"
     ]
    },
    {
     "data": {
      "image/png": "[encoded data removed]",
      "text/plain": [
       "<Figure size 432x288 with 1 Axes>"
      ]
     },
     "metadata": {
      "needs_background": "light"
     },
     "output_type": "display_data"
    },
    {
     "name": "stdout",
     "output_type": "stream",
     "text": [
      "comments\n"
     ]
    },
    {
     "data": {
      "image/png": "[encoded data removed]",
      "text/plain": [
       "<Figure size 432x288 with 1 Axes>"
      ]
     },
     "metadata": {
      "needs_background": "light"
     },
     "output_type": "display_data"
    },
    {
     "name": "stdout",
     "output_type": "stream",
     "text": [
      "is_ad\n"
     ]
    },
    {
     "data": {
      "image/png": "[encoded data removed]",
      "text/plain": [
       "<Figure size 432x288 with 1 Axes>"
      ]
     },
     "metadata": {
      "needs_background": "light"
     },
     "output_type": "display_data"
    },
    {
     "name": "stdout",
     "output_type": "stream",
     "text": [
      "is_repost\n"
     ]
    },
    {
     "data": {
      "image/png": "[encoded data removed]",
      "text/plain": [
       "<Figure size 432x288 with 1 Axes>"
      ]
     },
     "metadata": {
      "needs_background": "light"
     },
     "output_type": "display_data"
    },
    {
     "name": "stdout",
     "output_type": "stream",
     "text": [
      "time\n"
     ]
    },
    {
     "data": {
      "image/png": "[encoded data removed]",
      "text/plain": [
       "<Figure size 432x288 with 1 Axes>"
      ]
     },
     "metadata": {
      "needs_background": "light"
     },
     "output_type": "display_data"
    }
   ],
   "source": [
    "import matplotlib.pyplot as plt\n",
    "%matplotlib inline\n",
    "\n",
    "num_columns = ['views', 'likes', 'comments', 'is_ad', 'is_repost', 'time']\n",
    "\n",
    "for column in num_columns:\n",
    "    print(column)\n",
    "    df[column].hist()\n",
    "    plt.show()"
   ]
  },
  {
   "cell_type": "markdown",
   "metadata": {},
   "source": [
    "В данных выше мы можем увидеть интересные моменты: есть посты с аномально большим числом лайков и комментов. Можно на них посмотреть."
   ]
  },
  {
   "cell_type": "code",
   "execution_count": 11,
   "metadata": {},
   "outputs": [
    {
     "data": {
      "text/html": [
       "<div>\n",
       "<style scoped>\n",
       "    .dataframe tbody tr th:only-of-type {\n",
       "        vertical-align: middle;\n",
       "    }\n",
       "\n",
       "    .dataframe tbody tr th {\n",
       "        vertical-align: top;\n",
       "    }\n",
       "\n",
       "    .dataframe thead th {\n",
       "        text-align: right;\n",
       "    }\n",
       "</style>\n",
       "<table border=\"1\" class=\"dataframe\">\n",
       "  <thead>\n",
       "    <tr style=\"text-align: right;\">\n",
       "      <th></th>\n",
       "      <th>text</th>\n",
       "      <th>views</th>\n",
       "      <th>likes</th>\n",
       "      <th>comments</th>\n",
       "      <th>is_ad</th>\n",
       "      <th>attachments</th>\n",
       "      <th>is_repost</th>\n",
       "      <th>time</th>\n",
       "      <th>raw</th>\n",
       "    </tr>\n",
       "  </thead>\n",
       "  <tbody>\n",
       "    <tr>\n",
       "      <th>1587910</th>\n",
       "      <td>В приложении «ВКонтакте» для Android появилась...</td>\n",
       "      <td>122615</td>\n",
       "      <td>312</td>\n",
       "      <td>4558</td>\n",
       "      <td>0</td>\n",
       "      <td>[{'type': 'photo', 'photo': {'id': 456322633, ...</td>\n",
       "      <td>0</td>\n",
       "      <td>1555400095</td>\n",
       "      <td>{'id': 1587910, 'from_id': -30666517, 'owner_i...</td>\n",
       "    </tr>\n",
       "    <tr>\n",
       "      <th>1611436</th>\n",
       "      <td>Давайте устроим пятничный интерактив.\\n\\nВ ком...</td>\n",
       "      <td>83107</td>\n",
       "      <td>119</td>\n",
       "      <td>1936</td>\n",
       "      <td>0</td>\n",
       "      <td>[{'type': 'photo', 'photo': {'id': 457405135, ...</td>\n",
       "      <td>0</td>\n",
       "      <td>1563542940</td>\n",
       "      <td>{'id': 1611436, 'from_id': -30666517, 'owner_i...</td>\n",
       "    </tr>\n",
       "    <tr>\n",
       "      <th>1579542</th>\n",
       "      <td>Сегодня в России прошли митинги против изоляци...</td>\n",
       "      <td>79485</td>\n",
       "      <td>492</td>\n",
       "      <td>596</td>\n",
       "      <td>0</td>\n",
       "      <td>[{'type': 'photo', 'photo': {'id': 456277864, ...</td>\n",
       "      <td>0</td>\n",
       "      <td>1552245134</td>\n",
       "      <td>{'id': 1579542, 'from_id': -30666517, 'owner_i...</td>\n",
       "    </tr>\n",
       "    <tr>\n",
       "      <th>1624064</th>\n",
       "      <td>Ностальгируем, не стесняемся</td>\n",
       "      <td>59648</td>\n",
       "      <td>180</td>\n",
       "      <td>576</td>\n",
       "      <td>0</td>\n",
       "      <td>[{'type': 'photo', 'photo': {'id': 457486163, ...</td>\n",
       "      <td>0</td>\n",
       "      <td>1568370266</td>\n",
       "      <td>{'id': 1624064, 'from_id': -30666517, 'owner_i...</td>\n",
       "    </tr>\n",
       "    <tr>\n",
       "      <th>1645176</th>\n",
       "      <td>Что вас ждёт в Новом году? Предлагаем вам загл...</td>\n",
       "      <td>43822</td>\n",
       "      <td>37</td>\n",
       "      <td>538</td>\n",
       "      <td>0</td>\n",
       "      <td>[{'type': 'photo', 'photo': {'id': 457635228, ...</td>\n",
       "      <td>0</td>\n",
       "      <td>1577714813</td>\n",
       "      <td>{'id': 1645176, 'from_id': -30666517, 'owner_i...</td>\n",
       "    </tr>\n",
       "  </tbody>\n",
       "</table>\n",
       "</div>"
      ],
      "text/plain": [
       "                                                      text   views  likes  \\\n",
       "1587910  В приложении «ВКонтакте» для Android появилась...  122615    312   \n",
       "1611436  Давайте устроим пятничный интерактив.\\n\\nВ ком...   83107    119   \n",
       "1579542  Сегодня в России прошли митинги против изоляци...   79485    492   \n",
       "1624064                       Ностальгируем, не стесняемся   59648    180   \n",
       "1645176  Что вас ждёт в Новом году? Предлагаем вам загл...   43822     37   \n",
       "\n",
       "         comments  is_ad                                        attachments  \\\n",
       "1587910      4558      0  [{'type': 'photo', 'photo': {'id': 456322633, ...   \n",
       "1611436      1936      0  [{'type': 'photo', 'photo': {'id': 457405135, ...   \n",
       "1579542       596      0  [{'type': 'photo', 'photo': {'id': 456277864, ...   \n",
       "1624064       576      0  [{'type': 'photo', 'photo': {'id': 457486163, ...   \n",
       "1645176       538      0  [{'type': 'photo', 'photo': {'id': 457635228, ...   \n",
       "\n",
       "         is_repost        time  \\\n",
       "1587910          0  1555400095   \n",
       "1611436          0  1563542940   \n",
       "1579542          0  1552245134   \n",
       "1624064          0  1568370266   \n",
       "1645176          0  1577714813   \n",
       "\n",
       "                                                       raw  \n",
       "1587910  {'id': 1587910, 'from_id': -30666517, 'owner_i...  \n",
       "1611436  {'id': 1611436, 'from_id': -30666517, 'owner_i...  \n",
       "1579542  {'id': 1579542, 'from_id': -30666517, 'owner_i...  \n",
       "1624064  {'id': 1624064, 'from_id': -30666517, 'owner_i...  \n",
       "1645176  {'id': 1645176, 'from_id': -30666517, 'owner_i...  "
      ]
     },
     "execution_count": 11,
     "metadata": {},
     "output_type": "execute_result"
    }
   ],
   "source": [
    "df.sort_values('comments', ascending=False)[:5]"
   ]
  },
  {
   "cell_type": "code",
   "execution_count": 12,
   "metadata": {},
   "outputs": [
    {
     "data": {
      "text/html": [
       "<div>\n",
       "<style scoped>\n",
       "    .dataframe tbody tr th:only-of-type {\n",
       "        vertical-align: middle;\n",
       "    }\n",
       "\n",
       "    .dataframe tbody tr th {\n",
       "        vertical-align: top;\n",
       "    }\n",
       "\n",
       "    .dataframe thead th {\n",
       "        text-align: right;\n",
       "    }\n",
       "</style>\n",
       "<table border=\"1\" class=\"dataframe\">\n",
       "  <thead>\n",
       "    <tr style=\"text-align: right;\">\n",
       "      <th></th>\n",
       "      <th>text</th>\n",
       "      <th>views</th>\n",
       "      <th>likes</th>\n",
       "      <th>comments</th>\n",
       "      <th>is_ad</th>\n",
       "      <th>attachments</th>\n",
       "      <th>is_repost</th>\n",
       "      <th>time</th>\n",
       "      <th>raw</th>\n",
       "    </tr>\n",
       "  </thead>\n",
       "  <tbody>\n",
       "    <tr>\n",
       "      <th>1566145</th>\n",
       "      <td></td>\n",
       "      <td>212472</td>\n",
       "      <td>5044</td>\n",
       "      <td>144</td>\n",
       "      <td>0</td>\n",
       "      <td>[{'type': 'photo', 'photo': {'id': 456272768, ...</td>\n",
       "      <td>0</td>\n",
       "      <td>1546290005</td>\n",
       "      <td>{'id': 1566145, 'from_id': -30666517, 'owner_i...</td>\n",
       "    </tr>\n",
       "    <tr>\n",
       "      <th>1495237</th>\n",
       "      <td>Видеокурс «Основы программирования». \\n \\nРусс...</td>\n",
       "      <td>64538</td>\n",
       "      <td>4359</td>\n",
       "      <td>11</td>\n",
       "      <td>0</td>\n",
       "      <td>[{'type': 'video', 'video': {'access_key': '76...</td>\n",
       "      <td>0</td>\n",
       "      <td>1500307628</td>\n",
       "      <td>{'id': 1495237, 'from_id': -30666517, 'owner_i...</td>\n",
       "    </tr>\n",
       "    <tr>\n",
       "      <th>1452322</th>\n",
       "      <td>Year++, программисты!</td>\n",
       "      <td>135403</td>\n",
       "      <td>2972</td>\n",
       "      <td>127</td>\n",
       "      <td>0</td>\n",
       "      <td>[{'type': 'photo', 'photo': {'id': 456240507, ...</td>\n",
       "      <td>0</td>\n",
       "      <td>1483218155</td>\n",
       "      <td>{'id': 1452322, 'from_id': -30666517, 'owner_i...</td>\n",
       "    </tr>\n",
       "    <tr>\n",
       "      <th>1483520</th>\n",
       "      <td>Подготовили для вас перевод подробного руковод...</td>\n",
       "      <td>96807</td>\n",
       "      <td>2925</td>\n",
       "      <td>17</td>\n",
       "      <td>0</td>\n",
       "      <td>[{'type': 'link', 'link': {'url': 'https://tpr...</td>\n",
       "      <td>0</td>\n",
       "      <td>1493226250</td>\n",
       "      <td>{'id': 1483520, 'from_id': -30666517, 'owner_i...</td>\n",
       "    </tr>\n",
       "    <tr>\n",
       "      <th>1520134</th>\n",
       "      <td>Привет. Просто анимированная форма логина, зац...</td>\n",
       "      <td>76552</td>\n",
       "      <td>2661</td>\n",
       "      <td>66</td>\n",
       "      <td>0</td>\n",
       "      <td>[{'type': 'doc', 'doc': {'id': 460704137, 'own...</td>\n",
       "      <td>0</td>\n",
       "      <td>1519661280</td>\n",
       "      <td>{'id': 1520134, 'from_id': -30666517, 'owner_i...</td>\n",
       "    </tr>\n",
       "  </tbody>\n",
       "</table>\n",
       "</div>"
      ],
      "text/plain": [
       "                                                      text   views  likes  \\\n",
       "1566145                                                     212472   5044   \n",
       "1495237  Видеокурс «Основы программирования». \\n \\nРусс...   64538   4359   \n",
       "1452322                              Year++, программисты!  135403   2972   \n",
       "1483520  Подготовили для вас перевод подробного руковод...   96807   2925   \n",
       "1520134  Привет. Просто анимированная форма логина, зац...   76552   2661   \n",
       "\n",
       "         comments  is_ad                                        attachments  \\\n",
       "1566145       144      0  [{'type': 'photo', 'photo': {'id': 456272768, ...   \n",
       "1495237        11      0  [{'type': 'video', 'video': {'access_key': '76...   \n",
       "1452322       127      0  [{'type': 'photo', 'photo': {'id': 456240507, ...   \n",
       "1483520        17      0  [{'type': 'link', 'link': {'url': 'https://tpr...   \n",
       "1520134        66      0  [{'type': 'doc', 'doc': {'id': 460704137, 'own...   \n",
       "\n",
       "         is_repost        time  \\\n",
       "1566145          0  1546290005   \n",
       "1495237          0  1500307628   \n",
       "1452322          0  1483218155   \n",
       "1483520          0  1493226250   \n",
       "1520134          0  1519661280   \n",
       "\n",
       "                                                       raw  \n",
       "1566145  {'id': 1566145, 'from_id': -30666517, 'owner_i...  \n",
       "1495237  {'id': 1495237, 'from_id': -30666517, 'owner_i...  \n",
       "1452322  {'id': 1452322, 'from_id': -30666517, 'owner_i...  \n",
       "1483520  {'id': 1483520, 'from_id': -30666517, 'owner_i...  \n",
       "1520134  {'id': 1520134, 'from_id': -30666517, 'owner_i...  "
      ]
     },
     "execution_count": 12,
     "metadata": {},
     "output_type": "execute_result"
    }
   ],
   "source": [
    "df.sort_values('likes', ascending=False)[:5]"
   ]
  },
  {
   "cell_type": "markdown",
   "metadata": {},
   "source": [
    "#### Feature Engineering и предварительная обработка"
   ]
  },
  {
   "cell_type": "markdown",
   "metadata": {},
   "source": [
    "Визуально мы заметили, что некоторые посты отмечены хэш-тегом \"\\#партнерский\". Попробуем найти такие посты и посмотреть, отмечены ли они как реклама.\n",
    "\n",
    "Для это применим функцию к столбцу text и получим новый столбец."
   ]
  },
  {
   "cell_type": "code",
   "execution_count": 13,
   "metadata": {},
   "outputs": [],
   "source": [
    "def is_partner(text):\n",
    "    if \"#партнерский\" in text.replace('ё', 'е').lower():\n",
    "        return 1\n",
    "    else:\n",
    "        return 0\n",
    "    \n",
    "df['is_partner'] = df['text'].apply(is_partner)"
   ]
  },
  {
   "cell_type": "code",
   "execution_count": 14,
   "metadata": {},
   "outputs": [
    {
     "data": {
      "image/png": "[encoded data removed]",
      "text/plain": [
       "<Figure size 432x288 with 1 Axes>"
      ]
     },
     "metadata": {
      "needs_background": "light"
     },
     "output_type": "display_data"
    },
    {
     "data": {
      "image/png": "[encoded data removed]",
      "text/plain": [
       "<Figure size 432x288 with 1 Axes>"
      ]
     },
     "metadata": {
      "needs_background": "light"
     },
     "output_type": "display_data"
    }
   ],
   "source": [
    "df['is_partner'].hist()\n",
    "plt.show()\n",
    "df['is_ad'].hist()\n",
    "plt.show()"
   ]
  },
  {
   "cell_type": "markdown",
   "metadata": {},
   "source": [
    "Интересно, а все ли посты, отмеченные, как партнерские, помечены, как реклама."
   ]
  },
  {
   "cell_type": "code",
   "execution_count": 15,
   "metadata": {},
   "outputs": [
    {
     "data": {
      "text/plain": [
       "<matplotlib.axes._subplots.AxesSubplot at 0x7f245e34d898>"
      ]
     },
     "execution_count": 15,
     "metadata": {},
     "output_type": "execute_result"
    },
    {
     "data": {
      "image/png": "[encoded data removed]",
      "text/plain": [
       "<Figure size 432x288 with 1 Axes>"
      ]
     },
     "metadata": {
      "needs_background": "light"
     },
     "output_type": "display_data"
    }
   ],
   "source": [
    "df[ df['is_partner'] == 1 ]['is_ad'].hist()"
   ]
  },
  {
   "cell_type": "markdown",
   "metadata": {},
   "source": [
    "Оказывается, нет! Выходит, мы только что придумали, как достать новую информацию из уже имеющихся данных. Это называется **feature ingineerring**. Именно в этом и состоит *искусство* машинного обучения.\n",
    "\n",
    "https://habr.com/ru/company/mlclass/blog/248129/\n",
    "\n",
    "Еще у нас есть время публикации. Попробуем достать из него, например, день недели.\n",
    "\n",
    "https://stackoverflow.com/questions/9847213/how-do-i-get-the-day-of-week-given-a-date"
   ]
  },
  {
   "cell_type": "code",
   "execution_count": 16,
   "metadata": {},
   "outputs": [
    {
     "name": "stdout",
     "output_type": "stream",
     "text": [
      "Today: Wednesday\n"
     ]
    }
   ],
   "source": [
    "from datetime import date\n",
    "import calendar\n",
    "\n",
    "# test\n",
    "print(\"Today:\", calendar.day_name[datetime.datetime.today().weekday()])\n",
    "\n",
    "\n",
    "def get_weekday(unix_time):\n",
    "    date = datetime.datetime.fromtimestamp(unix_time)\n",
    "    return calendar.day_name[date.weekday()]\n",
    "\n",
    "\n",
    "df['weekday'] = df['time'].apply(get_weekday)   "
   ]
  },
  {
   "cell_type": "code",
   "execution_count": 17,
   "metadata": {},
   "outputs": [
    {
     "data": {
      "text/plain": [
       "<matplotlib.axes._subplots.AxesSubplot at 0x7f245e2e1160>"
      ]
     },
     "execution_count": 17,
     "metadata": {},
     "output_type": "execute_result"
    },
    {
     "data": {
      "image/png": "[encoded data removed]",
      "text/plain": [
       "<Figure size 432x288 with 1 Axes>"
      ]
     },
     "metadata": {
      "needs_background": "light"
     },
     "output_type": "display_data"
    }
   ],
   "source": [
    "df['weekday'].hist()"
   ]
  },
  {
   "cell_type": "markdown",
   "metadata": {},
   "source": [
    "Как отправить эти данные в машину? Превратить в числа. Первое что приходит в голову - просто выдать номер для каждого для недели.\n",
    "\n",
    "Но тогда получится, что воскренье больше понедельника, что не так - они идут подряд, а это может сбить некоторые модели с толку. Поэтому вместо этого создадим по булевому признаку для каждого дня недели."
   ]
  },
  {
   "cell_type": "code",
   "execution_count": 18,
   "metadata": {},
   "outputs": [],
   "source": [
    "df = pd.concat([df, pd.get_dummies(df['weekday'], prefix='is_')] , axis=1)"
   ]
  },
  {
   "cell_type": "code",
   "execution_count": 19,
   "metadata": {},
   "outputs": [
    {
     "data": {
      "text/html": [
       "<div>\n",
       "<style scoped>\n",
       "    .dataframe tbody tr th:only-of-type {\n",
       "        vertical-align: middle;\n",
       "    }\n",
       "\n",
       "    .dataframe tbody tr th {\n",
       "        vertical-align: top;\n",
       "    }\n",
       "\n",
       "    .dataframe thead th {\n",
       "        text-align: right;\n",
       "    }\n",
       "</style>\n",
       "<table border=\"1\" class=\"dataframe\">\n",
       "  <thead>\n",
       "    <tr style=\"text-align: right;\">\n",
       "      <th></th>\n",
       "      <th>text</th>\n",
       "      <th>views</th>\n",
       "      <th>likes</th>\n",
       "      <th>comments</th>\n",
       "      <th>is_ad</th>\n",
       "      <th>attachments</th>\n",
       "      <th>is_repost</th>\n",
       "      <th>time</th>\n",
       "      <th>raw</th>\n",
       "      <th>is_partner</th>\n",
       "      <th>weekday</th>\n",
       "      <th>is__Friday</th>\n",
       "      <th>is__Monday</th>\n",
       "      <th>is__Saturday</th>\n",
       "      <th>is__Sunday</th>\n",
       "      <th>is__Thursday</th>\n",
       "      <th>is__Tuesday</th>\n",
       "      <th>is__Wednesday</th>\n",
       "    </tr>\n",
       "  </thead>\n",
       "  <tbody>\n",
       "    <tr>\n",
       "      <th>1653786</th>\n",
       "      <td>Шарите в Java? Есть отличный шанс это продемон...</td>\n",
       "      <td>93860</td>\n",
       "      <td>435</td>\n",
       "      <td>159</td>\n",
       "      <td>0</td>\n",
       "      <td>[{'type': 'photo', 'photo': {'id': 457676504, ...</td>\n",
       "      <td>0</td>\n",
       "      <td>1581689820</td>\n",
       "      <td>{'id': 1653786, 'from_id': -30666517, 'owner_i...</td>\n",
       "      <td>0</td>\n",
       "      <td>Friday</td>\n",
       "      <td>1</td>\n",
       "      <td>0</td>\n",
       "      <td>0</td>\n",
       "      <td>0</td>\n",
       "      <td>0</td>\n",
       "      <td>0</td>\n",
       "      <td>0</td>\n",
       "    </tr>\n",
       "    <tr>\n",
       "      <th>1655514</th>\n",
       "      <td>Про Си написано достаточно книг, многие из них...</td>\n",
       "      <td>13327</td>\n",
       "      <td>78</td>\n",
       "      <td>43</td>\n",
       "      <td>0</td>\n",
       "      <td>[{'type': 'photo', 'photo': {'id': 457685524, ...</td>\n",
       "      <td>0</td>\n",
       "      <td>1582733760</td>\n",
       "      <td>{'id': 1655514, 'from_id': -30666517, 'owner_i...</td>\n",
       "      <td>0</td>\n",
       "      <td>Wednesday</td>\n",
       "      <td>0</td>\n",
       "      <td>0</td>\n",
       "      <td>0</td>\n",
       "      <td>0</td>\n",
       "      <td>0</td>\n",
       "      <td>0</td>\n",
       "      <td>1</td>\n",
       "    </tr>\n",
       "    <tr>\n",
       "      <th>1655486</th>\n",
       "      <td>Учёные научились генерировать случайные числа ...</td>\n",
       "      <td>24401</td>\n",
       "      <td>112</td>\n",
       "      <td>13</td>\n",
       "      <td>0</td>\n",
       "      <td>[{'type': 'photo', 'photo': {'id': 457687288, ...</td>\n",
       "      <td>0</td>\n",
       "      <td>1582718762</td>\n",
       "      <td>{'id': 1655486, 'from_id': -30666517, 'owner_i...</td>\n",
       "      <td>0</td>\n",
       "      <td>Wednesday</td>\n",
       "      <td>0</td>\n",
       "      <td>0</td>\n",
       "      <td>0</td>\n",
       "      <td>0</td>\n",
       "      <td>0</td>\n",
       "      <td>0</td>\n",
       "      <td>1</td>\n",
       "    </tr>\n",
       "    <tr>\n",
       "      <th>1655472</th>\n",
       "      <td>Сайт i Hate Regex, на котором можно воспользов...</td>\n",
       "      <td>40290</td>\n",
       "      <td>395</td>\n",
       "      <td>7</td>\n",
       "      <td>0</td>\n",
       "      <td>[{'type': 'photo', 'photo': {'id': 457675569, ...</td>\n",
       "      <td>0</td>\n",
       "      <td>1582703685</td>\n",
       "      <td>{'id': 1655472, 'from_id': -30666517, 'owner_i...</td>\n",
       "      <td>0</td>\n",
       "      <td>Wednesday</td>\n",
       "      <td>0</td>\n",
       "      <td>0</td>\n",
       "      <td>0</td>\n",
       "      <td>0</td>\n",
       "      <td>0</td>\n",
       "      <td>0</td>\n",
       "      <td>1</td>\n",
       "    </tr>\n",
       "    <tr>\n",
       "      <th>1655372</th>\n",
       "      <td>Американка разработала аскетичный телефон с ди...</td>\n",
       "      <td>57696</td>\n",
       "      <td>349</td>\n",
       "      <td>77</td>\n",
       "      <td>0</td>\n",
       "      <td>[{'type': 'photo', 'photo': {'id': 457682146, ...</td>\n",
       "      <td>0</td>\n",
       "      <td>1582640280</td>\n",
       "      <td>{'id': 1655372, 'from_id': -30666517, 'owner_i...</td>\n",
       "      <td>0</td>\n",
       "      <td>Tuesday</td>\n",
       "      <td>0</td>\n",
       "      <td>0</td>\n",
       "      <td>0</td>\n",
       "      <td>0</td>\n",
       "      <td>0</td>\n",
       "      <td>1</td>\n",
       "      <td>0</td>\n",
       "    </tr>\n",
       "  </tbody>\n",
       "</table>\n",
       "</div>"
      ],
      "text/plain": [
       "                                                      text  views  likes  \\\n",
       "1653786  Шарите в Java? Есть отличный шанс это продемон...  93860    435   \n",
       "1655514  Про Си написано достаточно книг, многие из них...  13327     78   \n",
       "1655486  Учёные научились генерировать случайные числа ...  24401    112   \n",
       "1655472  Сайт i Hate Regex, на котором можно воспользов...  40290    395   \n",
       "1655372  Американка разработала аскетичный телефон с ди...  57696    349   \n",
       "\n",
       "         comments  is_ad                                        attachments  \\\n",
       "1653786       159      0  [{'type': 'photo', 'photo': {'id': 457676504, ...   \n",
       "1655514        43      0  [{'type': 'photo', 'photo': {'id': 457685524, ...   \n",
       "1655486        13      0  [{'type': 'photo', 'photo': {'id': 457687288, ...   \n",
       "1655472         7      0  [{'type': 'photo', 'photo': {'id': 457675569, ...   \n",
       "1655372        77      0  [{'type': 'photo', 'photo': {'id': 457682146, ...   \n",
       "\n",
       "         is_repost        time  \\\n",
       "1653786          0  1581689820   \n",
       "1655514          0  1582733760   \n",
       "1655486          0  1582718762   \n",
       "1655472          0  1582703685   \n",
       "1655372          0  1582640280   \n",
       "\n",
       "                                                       raw  is_partner  \\\n",
       "1653786  {'id': 1653786, 'from_id': -30666517, 'owner_i...           0   \n",
       "1655514  {'id': 1655514, 'from_id': -30666517, 'owner_i...           0   \n",
       "1655486  {'id': 1655486, 'from_id': -30666517, 'owner_i...           0   \n",
       "1655472  {'id': 1655472, 'from_id': -30666517, 'owner_i...           0   \n",
       "1655372  {'id': 1655372, 'from_id': -30666517, 'owner_i...           0   \n",
       "\n",
       "           weekday  is__Friday  is__Monday  is__Saturday  is__Sunday  \\\n",
       "1653786     Friday           1           0             0           0   \n",
       "1655514  Wednesday           0           0             0           0   \n",
       "1655486  Wednesday           0           0             0           0   \n",
       "1655472  Wednesday           0           0             0           0   \n",
       "1655372    Tuesday           0           0             0           0   \n",
       "\n",
       "         is__Thursday  is__Tuesday  is__Wednesday  \n",
       "1653786             0            0              0  \n",
       "1655514             0            0              1  \n",
       "1655486             0            0              1  \n",
       "1655472             0            0              1  \n",
       "1655372             0            1              0  "
      ]
     },
     "execution_count": 19,
     "metadata": {},
     "output_type": "execute_result"
    }
   ],
   "source": [
    "df.head()"
   ]
  },
  {
   "cell_type": "markdown",
   "metadata": {},
   "source": [
    "Сделаем еще пару признаков - длина текста и количество вложений."
   ]
  },
  {
   "cell_type": "code",
   "execution_count": 20,
   "metadata": {},
   "outputs": [],
   "source": [
    "df['attachments_len'] = df['attachments'].apply(lambda x:len(x))\n",
    "df['text_len'] = df['text'].apply(lambda x:len(x))"
   ]
  },
  {
   "cell_type": "markdown",
   "metadata": {},
   "source": [
    "#### Убираем аутлайнеров\n",
    "\n",
    "Как мы видели ранее, в наших данных есть очень нетипичные почты, которые сильно отличаются от остальных. Например, пост про новый год, у которого очень много лайков.\n",
    "\n",
    "Если мы хотим сделать модель с более высокой обобщающей способностью, такие данные полезно отбросить. Например, можно посмотреть на стандартное отклонение и отбросить все, что лежит сильно дальше среднего.\n",
    "\n",
    "Однако, становится ли от этого лучше, стоит отдельно проверить позже."
   ]
  },
  {
   "cell_type": "code",
   "execution_count": 21,
   "metadata": {},
   "outputs": [],
   "source": [
    "learn_df = df.drop(columns=['text', 'attachments', 'raw', 'weekday'])"
   ]
  },
  {
   "cell_type": "code",
   "execution_count": 22,
   "metadata": {},
   "outputs": [
    {
     "name": "stdout",
     "output_type": "stream",
     "text": [
      "(6786, 20)\n",
      "(5715, 16)\n"
     ]
    }
   ],
   "source": [
    "def not_outliner(value, mean_value, std_value):\n",
    "    if mean_value - 3 * std_value < value < mean_value + 3 * std_value:\n",
    "        return True\n",
    "    return False\n",
    "\n",
    "for column in learn_df.columns:\n",
    "    mean_value = df[column].mean()\n",
    "    std_value = df[column].std()\n",
    "    regular_posts = learn_df[column].apply(lambda x: not_outliner(x, mean_value, std_value))\n",
    "    learn_df = learn_df[regular_posts]\n",
    "\n",
    "print(df.shape)\n",
    "print(learn_df.shape)"
   ]
  },
  {
   "cell_type": "markdown",
   "metadata": {},
   "source": [
    "#### Обучаем модели"
   ]
  },
  {
   "cell_type": "code",
   "execution_count": 23,
   "metadata": {},
   "outputs": [],
   "source": [
    "X = learn_df.drop(columns=['views'])\n",
    "Y = learn_df['views']"
   ]
  },
  {
   "cell_type": "code",
   "execution_count": 24,
   "metadata": {},
   "outputs": [],
   "source": [
    "from sklearn.model_selection import train_test_split\n",
    "\n",
    "X_train, X_test, Y_train, Y_test = train_test_split(X, Y, random_state=42)"
   ]
  },
  {
   "cell_type": "code",
   "execution_count": 25,
   "metadata": {},
   "outputs": [],
   "source": [
    "from sklearn.preprocessing import StandardScaler\n",
    "\n",
    "scaler = StandardScaler()\n",
    "scaler.fit(X_train)\n",
    "\n",
    "X_train = scaler.transform(X_train)\n",
    "X_test = scaler.transform(X_test)"
   ]
  },
  {
   "cell_type": "code",
   "execution_count": 26,
   "metadata": {},
   "outputs": [
    {
     "name": "stdout",
     "output_type": "stream",
     "text": [
      "\n",
      "Model:  linear\n",
      "Train MSE: 9211.932248535137\n",
      "Test MSE: 9857.391565544594\n",
      "\n",
      "Model:  linear with regularisation\n",
      "Train MSE: 9211.932612227418\n",
      "Test MSE: 9857.427161054646\n",
      "\n",
      "Model:  tree\n",
      "Train MSE: 8282.432219584172\n",
      "Test MSE: 9312.09861699642\n",
      "\n",
      "Model:  forest\n",
      "Train MSE: 2886.843032068556\n",
      "Test MSE: 8013.346770311144\n",
      "\n",
      "Model:  gradient_boosting\n",
      "Train MSE: 7021.634811025651\n",
      "Test MSE: 8027.920873070439\n"
     ]
    }
   ],
   "source": [
    "from sklearn.linear_model import LinearRegression, Ridge\n",
    "from sklearn.tree import DecisionTreeRegressor\n",
    "from sklearn.ensemble import RandomForestRegressor, GradientBoostingRegressor\n",
    "from sklearn.metrics import mean_squared_error\n",
    "\n",
    "models = {\n",
    "    \"linear\": LinearRegression(),\n",
    "    \"linear with regularisation\": Ridge(),\n",
    "    \"tree\": DecisionTreeRegressor(max_depth=5),\n",
    "    \"forest\": RandomForestRegressor(),\n",
    "    \"gradient_boosting\": GradientBoostingRegressor()\n",
    "}\n",
    "\n",
    "for model_name in models:\n",
    "    models[model_name].fit(X_train, Y_train)\n",
    "    train_predictions = models[model_name].predict(X_train)\n",
    "    test_predictions = models[model_name].predict(X_test)\n",
    "    \n",
    "    print(\"\")\n",
    "    print(\"Model: \", model_name)\n",
    "    print(\"Train MSE:\", mean_squared_error(Y_train, train_predictions) ** 0.5)\n",
    "    print(\"Test MSE:\", mean_squared_error(Y_test, test_predictions) ** 0.5)"
   ]
  },
  {
   "cell_type": "markdown",
   "metadata": {},
   "source": [
    "На данный момент лучше всего работает случайный лес и градиентный бустинг. Можно посмотреть, на какие признаки он опирается."
   ]
  },
  {
   "cell_type": "code",
   "execution_count": 27,
   "metadata": {},
   "outputs": [
    {
     "name": "stdout",
     "output_type": "stream",
     "text": [
      "is_partner  -  0.0\n",
      "is_repost  -  0.0\n",
      "is__Monday  -  0.004472083969077294\n",
      "is__Friday  -  0.005267770391535488\n",
      "is__Tuesday  -  0.005857119727389557\n",
      "is__Saturday  -  0.006079554378001615\n",
      "is__Thursday  -  0.006170388754875776\n",
      "is__Wednesday  -  0.006649746058552718\n",
      "is_ad  -  0.0071875273845313165\n",
      "is__Sunday  -  0.009645903020315462\n",
      "attachments_len  -  0.015086326509830305\n",
      "comments  -  0.06723588845170486\n",
      "text_len  -  0.09049457773415014\n",
      "time  -  0.21436875234209185\n",
      "likes  -  0.5614843612779438\n"
     ]
    }
   ],
   "source": [
    "for (w, n) in sorted(zip(models[\"forest\"].feature_importances_, X.columns)):\n",
    "    print(n, \" - \", w)"
   ]
  },
  {
   "cell_type": "markdown",
   "metadata": {},
   "source": [
    "Чтобы посмотреть, влияют ли признаки негативно или положительно можем дополнительно посмотреть на регрессию."
   ]
  },
  {
   "cell_type": "code",
   "execution_count": 28,
   "metadata": {},
   "outputs": [
    {
     "name": "stdout",
     "output_type": "stream",
     "text": [
      "attachments_len  -  -1411.436919065821\n",
      "time  -  -1055.0983785276426\n",
      "is__Thursday  -  -376.62449874211086\n",
      "is__Wednesday  -  -356.4904341017434\n",
      "is__Tuesday  -  -271.2596167032073\n",
      "is__Monday  -  -130.34111203139494\n",
      "is__Friday  -  -81.18268923383033\n",
      "is_partner  -  -2.2737367544323206e-13\n",
      "is_repost  -  2.2737367544323206e-13\n",
      "is__Saturday  -  476.44283617413447\n",
      "text_len  -  524.0201878327616\n",
      "is__Sunday  -  888.0244579315104\n",
      "is_ad  -  1117.9295341139302\n",
      "comments  -  1968.650029389038\n",
      "likes  -  9358.417243624968\n"
     ]
    }
   ],
   "source": [
    "for (w, n) in sorted(zip(models[\"linear\"].coef_, X.columns)):\n",
    "    print(n, \" - \", w)"
   ]
  },
  {
   "cell_type": "markdown",
   "metadata": {},
   "source": [
    "Выходит, что лучше всего публиковать посты в воскресенье, а хуже всего в среду. Много вложений - это плохо."
   ]
  }
 ],
 "metadata": {
  "kernelspec": {
   "display_name": "Python 3",
   "language": "python",
   "name": "python3"
  },
  "language_info": {
   "codemirror_mode": {
    "name": "ipython",
    "version": 3
   },
   "file_extension": ".py",
   "mimetype": "text/x-python",
   "name": "python",
   "nbconvert_exporter": "python",
   "pygments_lexer": "ipython3",
   "version": "3.6.9"
  }
 },
 "nbformat": 4,
 "nbformat_minor": 4
}
